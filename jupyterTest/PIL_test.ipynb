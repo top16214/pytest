{
 "cells": [
  {
   "cell_type": "code",
   "execution_count": 1,
   "id": "adjusted-defensive",
   "metadata": {
    "ExecuteTime": {
     "end_time": "2021-01-22T11:14:11.242152Z",
     "start_time": "2021-01-22T11:14:08.343999Z"
    },
    "code_folding": []
   },
   "outputs": [
    {
     "name": "stdout",
     "output_type": "stream",
     "text": [
      "JPEG (1600, 2400) RGB\n"
     ]
    }
   ],
   "source": [
    "# requests库简明使用\n",
    "# refering https://requests.readthedocs.io/en/master/user/quickstart/\n",
    "\n",
    "import requests\n",
    "from bs4 import BeautifulSoup, NavigableString, Tag\n",
    "from PIL import Image\n",
    "from io import BytesIO\n",
    "\n",
    "headers = {\n",
    "    'user-agent':\n",
    "    'Mozilla/5.0 (Windows NT 10.0; Win64; x64) AppleWebKit/537.36 (KHTML, like Gecko) Chrome/65.0.3325.181 Safari/537.36',\n",
    "    'referer': r'https://www.nvshens.org/img.html?img='\n",
    "}\n",
    "\n",
    "# url = r'https://www.nvshens.org/g/34812/15.html'\n",
    "url = r\"https://t1.onvshen.com:85/gallery/25291/34812/042.jpg\"\n",
    "\n",
    "r = requests.get(url, headers=headers, stream=True)\n",
    "\n",
    "# print(r.headers)     # response/响应的头信息\n",
    "# print(r.request.headers)      # request/请求的头信息\n",
    "# print(r.content)\n",
    "# print(r.status_code)  # 提取请求状态码\n",
    "# print(r.url)  # 当前请求的url\n",
    "# r.text # 网页源代码字符型\n",
    "# r.content # 网页源代码bytes型\n",
    "# print(r.encoding)   # 得到网页编码方式。二進制文件如圖片，其值是None\n",
    "# print(r.content.decode())   # 默认是用UTF8解码\n",
    "\n",
    "# The gzip and deflate transfer-encodings are automatically decoded for you.\n",
    "\n",
    "# 处理二进制内容，例如图片\n",
    "image = Image.open(BytesIO(r.content))\n",
    "print(image.format, image.size, image.mode)\n",
    "# image.show()\n",
    "image.save(\"newpic\",format=image.format)"
   ]
  }
 ],
 "metadata": {
  "kernelspec": {
   "display_name": "Python 3",
   "language": "python",
   "name": "python3"
  },
  "language_info": {
   "codemirror_mode": {
    "name": "ipython",
    "version": 3
   },
   "file_extension": ".py",
   "mimetype": "text/x-python",
   "name": "python",
   "nbconvert_exporter": "python",
   "pygments_lexer": "ipython3",
   "version": "3.9.1"
  },
  "toc": {
   "base_numbering": 1,
   "nav_menu": {},
   "number_sections": true,
   "sideBar": true,
   "skip_h1_title": false,
   "title_cell": "Table of Contents",
   "title_sidebar": "Contents",
   "toc_cell": false,
   "toc_position": {},
   "toc_section_display": true,
   "toc_window_display": false
  },
  "varInspector": {
   "cols": {
    "lenName": 16,
    "lenType": 16,
    "lenVar": 40
   },
   "kernels_config": {
    "python": {
     "delete_cmd_postfix": "",
     "delete_cmd_prefix": "del ",
     "library": "var_list.py",
     "varRefreshCmd": "print(var_dic_list())"
    },
    "r": {
     "delete_cmd_postfix": ") ",
     "delete_cmd_prefix": "rm(",
     "library": "var_list.r",
     "varRefreshCmd": "cat(var_dic_list()) "
    }
   },
   "types_to_exclude": [
    "module",
    "function",
    "builtin_function_or_method",
    "instance",
    "_Feature"
   ],
   "window_display": false
  }
 },
 "nbformat": 4,
 "nbformat_minor": 5
}
