{
 "cells": [
  {
   "cell_type": "code",
   "execution_count": null,
   "metadata": {
    "ExecuteTime": {
     "end_time": "2020-12-16T08:22:30.754342Z",
     "start_time": "2020-12-16T08:22:30.747343Z"
    },
    "code_folding": [
     0
    ]
   },
   "outputs": [],
   "source": [
    "# Password Generator\n",
    "# You can use Pythons string and random modules to generate passwords. \n",
    "\n",
    "# The string module contains a number of useful constants and classes. \n",
    "\n",
    "# Some of them we are going to use in this script.\n",
    "# string.ascii_letters\n",
    "# Concatenation of the ascii (upper and lowercase) letters\n",
    "\n",
    "# string.digits\n",
    "# The string '0123456789'. \t\n",
    "\n",
    "# string.punctuation\n",
    "# String of ASCII characters which are considered punctuation characters in the C \n",
    "# locale.\n",
    "\n",
    "# print string.ascii_letters\n",
    "\n",
    "# print string.digits\n",
    "\n",
    "# print string.punctuation\n",
    "\n",
    "# Output\n",
    "# abcdefghijklmnopqrstuvwxyzABCDEFGHIJKLMNOPQRSTUVWXYZ\n",
    "# 0123456789\n",
    "# !\"#$%&'()*+,-./:;<=>?@[]^_`{|}~\n",
    "\n",
    "\n",
    "import string\n",
    "from random import *\n",
    "characters = string.ascii_letters + string.punctuation  + string.digits\n",
    "password =  \"\".join(choice(characters) for x in range(randint(8, 16)))\n",
    "print(\"\\nHere is your random password:\\t%s\\n\"%password)\n",
    "\n",
    "\n",
    "\n",
    "# ------------------------------------------------------------------\n",
    "\n",
    "\n",
    "\n"
   ]
  },
  {
   "cell_type": "code",
   "execution_count": null,
   "metadata": {
    "code_folding": [
     0
    ]
   },
   "outputs": [],
   "source": [
    "# how to merge two dict\n",
    "\n",
    "x = {'a':3,'b':4}\n",
    "y = {'b':7,'c':9}\n",
    "\n",
    "z = {**x,**y}\n",
    "\n",
    "print(z)"
   ]
  },
  {
   "cell_type": "code",
   "execution_count": null,
   "metadata": {},
   "outputs": [],
   "source": [
    "import urllib\n",
    "\n",
    "url = 'https://www.google.com/search'\n",
    "values = {'q' : 'python programming tutorials'}\n",
    "data = urllib.parse.urlencode(values)\n",
    "# data should be bytes\n",
    "data = data.encode('utf-8')\n",
    "req = urllib.request.Request(url, data)\n",
    "resp = urllib.request.urlopen(req)\n",
    "respData = resp.read()\n",
    "\n",
    "print(respData)"
   ]
  },
  {
   "cell_type": "code",
   "execution_count": null,
   "metadata": {},
   "outputs": [],
   "source": [
    "import urllib\n",
    "\n",
    "URL = r'https://m.jb51.net/article/178002.htm'\n",
    "# 这里请求方法是head，不获取body部分；默认是GET\n",
    "req = urllib.request.Request(URL,method=“HEAD”)\n",
    "fake_ua = r\"Mozilla/5.0 (iPad; U; CPU OS 4_2_1 like Mac OS X; zh-cn) AppleWebKit/533.17.9 (KHTML, like Gecko) Version/5.0.2 Mobile/8C148 Safari/6533.18.5\"\n",
    "req.add_header(\"User-Agent\",fake_ua)\n",
    "req.add_header(\"Referer\",r'https://m.jb51.net/')\n",
    "req.add_header(\"Connection\",r'keep-alive')\n",
    "\n",
    "req.full_url\n",
    "req.get_method()                             # 返回客户端的请求方法\n",
    "req.headers                                  # 返回请求的全部头信息\n",
    "req.has_header(”Referer”)               # 得到头信息里面某项信息，实参是大小写敏感的\n",
    "req.has_proxy()                         # 设置了代理则返回True，否则为False\n",
    "req.set_proxy('127.0.0.1:8081','http')      # ??? 未验证这个方法\n",
    "req.type                                  # return scheme,like“http,https,ftp”\n",
    "req.remove_header(”Connection”)\n"
   ]
  },
  {
   "cell_type": "code",
   "execution_count": null,
   "metadata": {},
   "outputs": [],
   "source": [
    "# python str与bytes之间的转换\n",
    "\n",
    " # bytes object\n",
    "  b = b\"example\"\n",
    " \n",
    "  # str object\n",
    "  s = \"example\"\n",
    " \n",
    "  # str to bytes\n",
    "  bytes(s, encoding = \"utf8\")\n",
    " \n",
    "  # bytes to str\n",
    "  str(b, encoding = \"utf-8\")\n",
    " \n",
    "  # an alternative method\n",
    "  # str to bytes\n",
    "  str.encode(s)\n",
    " \n",
    "  # bytes to str\n",
    "  bytes.decode(b)"
   ]
  },
  {
   "cell_type": "code",
   "execution_count": null,
   "metadata": {},
   "outputs": [],
   "source": []
  }
 ],
 "metadata": {
  "kernelspec": {
   "display_name": "Python 3",
   "language": "python",
   "name": "python3"
  },
  "language_info": {
   "codemirror_mode": {
    "name": "ipython",
    "version": 3
   },
   "file_extension": ".py",
   "mimetype": "text/x-python",
   "name": "python",
   "nbconvert_exporter": "python",
   "pygments_lexer": "ipython3",
   "version": "3.9.1-final"
  },
  "toc": {
   "base_numbering": 1,
   "nav_menu": {},
   "number_sections": true,
   "sideBar": true,
   "skip_h1_title": false,
   "title_cell": "Table of Contents",
   "title_sidebar": "Contents",
   "toc_cell": false,
   "toc_position": {},
   "toc_section_display": true,
   "toc_window_display": false
  }
 },
 "nbformat": 4,
 "nbformat_minor": 2
}