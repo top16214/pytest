{
 "cells": [
  {
   "cell_type": "markdown",
   "id": "restricted-print",
   "metadata": {},
   "source": [
    "# URL解碼和編碼"
   ]
  },
  {
   "cell_type": "code",
   "execution_count": 5,
   "id": "supported-wellington",
   "metadata": {
    "ExecuteTime": {
     "end_time": "2021-01-23T11:48:51.149346Z",
     "start_time": "2021-01-23T11:48:51.143345Z"
    }
   },
   "outputs": [
    {
     "name": "stdout",
     "output_type": "stream",
     "text": [
      "SplitResult(scheme='https', netloc='www.mymypic.net', path='/data/attachment/forum/202010/27/0736349zadwnznpved7nd3.jpg.thumb.jpg', query='', fragment='')\n",
      "/data/attachment/forum/202010/27/0736349zadwnznpved7nd3.jpg.thumb.jpg\n",
      "0736349zadwnznpved7nd3.jpg.thumb.jpg\n"
     ]
    }
   ],
   "source": [
    "from urllib import parse\n",
    "url = 'https://www.mymypic.net/data/attachment/forum/202010/27/0736349zadwnznpved7nd3.jpg.thumb.jpg'\n",
    "res = parse.urlsplit(url)\n",
    "print(res)\n",
    "print(res.path)\n",
    "# print(res.path.split('/'))\n",
    "\n",
    "# you get the point\n",
    "print(res.path.split('/')[-1])"
   ]
  }
 ],
 "metadata": {
  "kernelspec": {
   "display_name": "Python 3",
   "language": "python",
   "name": "python3"
  },
  "language_info": {
   "codemirror_mode": {
    "name": "ipython",
    "version": 3
   },
   "file_extension": ".py",
   "mimetype": "text/x-python",
   "name": "python",
   "nbconvert_exporter": "python",
   "pygments_lexer": "ipython3",
   "version": "3.9.1"
  },
  "toc": {
   "base_numbering": 1,
   "nav_menu": {},
   "number_sections": true,
   "sideBar": true,
   "skip_h1_title": false,
   "title_cell": "Table of Contents",
   "title_sidebar": "Contents",
   "toc_cell": false,
   "toc_position": {},
   "toc_section_display": true,
   "toc_window_display": false
  },
  "varInspector": {
   "cols": {
    "lenName": 16,
    "lenType": 16,
    "lenVar": 40
   },
   "kernels_config": {
    "python": {
     "delete_cmd_postfix": "",
     "delete_cmd_prefix": "del ",
     "library": "var_list.py",
     "varRefreshCmd": "print(var_dic_list())"
    },
    "r": {
     "delete_cmd_postfix": ") ",
     "delete_cmd_prefix": "rm(",
     "library": "var_list.r",
     "varRefreshCmd": "cat(var_dic_list()) "
    }
   },
   "types_to_exclude": [
    "module",
    "function",
    "builtin_function_or_method",
    "instance",
    "_Feature"
   ],
   "window_display": false
  }
 },
 "nbformat": 4,
 "nbformat_minor": 5
}
