{
 "cells": [
  {
   "cell_type": "code",
   "execution_count": 25,
   "id": "ceramic-research",
   "metadata": {
    "ExecuteTime": {
     "end_time": "2021-01-23T11:20:08.624278Z",
     "start_time": "2021-01-23T11:20:04.291364Z"
    }
   },
   "outputs": [
    {
     "name": "stdout",
     "output_type": "stream",
     "text": [
      "https://www.mymypic.net/data/attachment/forum/202010/27/0736349zadwnznpved7nd3.jpg.thumb.jpg \u001b[1;32;m 👌 \u001b[0m!\n"
     ]
    }
   ],
   "source": [
    "# 下載down.lst裏面的url圖片，保持到本地\n",
    "\n",
    "import requests\n",
    "# from io import BytesIO\n",
    "\n",
    "headers = {\n",
    "    'user-agent':\n",
    "    'Mozilla/5.0 (Windows NT 10.0; Win64; x64) AppleWebKit/537.36 (KHTML, like Gecko) Chrome/65.0.3325.181 Safari/537.36'}\n",
    "# headers['referer'] = r'https://www.nvshens.org/img.html?img='\n",
    "# url = r'https://www.nvshens.org/g/34812/15.html'\n",
    "# r = requests.get(url, headers=headers)\n",
    "\n",
    "def down(url):\n",
    "    r = requests.get(url, headers=headers, stream=True)    \n",
    "    with open(\"test.jpg\",'wb') as fd:\n",
    "        fd.write(r.content)\n",
    "\n",
    "    print('{} \\033[1;32;m 👌 \\033[0m!'.format(url))\n",
    "\n",
    "down(r\"https://www.mymypic.net/data/attachment/forum/202010/27/0736349zadwnznpved7nd3.jpg.thumb.jpg\")\n",
    "    \n"
   ]
  }
 ],
 "metadata": {
  "kernelspec": {
   "display_name": "Python 3",
   "language": "python",
   "name": "python3"
  },
  "language_info": {
   "codemirror_mode": {
    "name": "ipython",
    "version": 3
   },
   "file_extension": ".py",
   "mimetype": "text/x-python",
   "name": "python",
   "nbconvert_exporter": "python",
   "pygments_lexer": "ipython3",
   "version": "3.9.1"
  },
  "toc": {
   "base_numbering": 1,
   "nav_menu": {},
   "number_sections": true,
   "sideBar": true,
   "skip_h1_title": false,
   "title_cell": "Table of Contents",
   "title_sidebar": "Contents",
   "toc_cell": false,
   "toc_position": {},
   "toc_section_display": true,
   "toc_window_display": false
  },
  "varInspector": {
   "cols": {
    "lenName": 16,
    "lenType": 16,
    "lenVar": 40
   },
   "kernels_config": {
    "python": {
     "delete_cmd_postfix": "",
     "delete_cmd_prefix": "del ",
     "library": "var_list.py",
     "varRefreshCmd": "print(var_dic_list())"
    },
    "r": {
     "delete_cmd_postfix": ") ",
     "delete_cmd_prefix": "rm(",
     "library": "var_list.r",
     "varRefreshCmd": "cat(var_dic_list()) "
    }
   },
   "types_to_exclude": [
    "module",
    "function",
    "builtin_function_or_method",
    "instance",
    "_Feature"
   ],
   "window_display": false
  }
 },
 "nbformat": 4,
 "nbformat_minor": 5
}
