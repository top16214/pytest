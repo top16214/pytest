{
 "cells": [
  {
   "cell_type": "markdown",
   "id": "brown-estate",
   "metadata": {},
   "source": [
    "# Python 利用 print 在終端打印顔色\n",
    "显示颜色的格式：\n",
    "\n",
    "`\\ 033 [显示方式;字体色;背景色m ...... [\\ 033 [0m]`\n",
    "\n",
    "显示颜色的参数：\n",
    "显示方式\t效果\t字体色\t背景色\t颜色描述\n",
    "0\t终端默认设置\t30\t40\t黑色\n",
    "1\t高亮显示\t31\t41\t红色\n",
    "4\t使用下划线\t32\t42\t绿色\n",
    "5\t闪烁\t33\t43\t黄色\n",
    "7\t反白显示\t34\t44\t蓝色\n",
    "8\t不可见\t35\t45\t紫红色\n",
    "36\t46\t青蓝色\n",
    "37\t47\t白色\n"
   ]
  },
  {
   "cell_type": "code",
   "execution_count": null,
   "id": "handed-rocket",
   "metadata": {
    "ExecuteTime": {
     "end_time": "2021-01-23T11:04:23.278014Z",
     "start_time": "2021-01-23T11:04:23.268012Z"
    }
   },
   "outputs": [],
   "source": [
    "# -*- coding:utf-8 -*-\n",
    "print(\"\\033[1;30m 字体颜色：白色\\033[0m\")\n",
    "print(\"\\033[1;31m 字体颜色：红色\\033[0m\")\n",
    "print(\"\\033[1;32m 字体颜色：深黄色\\033[0m\")\n",
    "print(\"\\033[1;33m 字体颜色：浅黄色\\033[0m\")\n",
    "print(\"\\033[1;34m 字体颜色：蓝色\\033[0m\")\n",
    "print(\"\\033[1;35m 字体颜色：淡紫色\\033[0m\")\n",
    "print(\"\\033[1;36m 字体颜色：青色\\033[0m\")\n",
    "print(\"\\033[1;37m 字体颜色：灰色\\033[0m\")\n",
    "print(\"\\033[1;38m 字体颜色：浅灰色\\033[0m\")\n",
    " \n",
    "print(\"背景颜色：白色   \\033[1;40m    \\033[0m\")\n",
    "print(\"背景颜色：红色   \\033[1;41m    \\033[0m\")\n",
    "print(\"背景颜色：深黄色 \\033[1;42m    \\033[0m\")\n",
    "print(\"背景颜色：浅黄色 \\033[1;43m    \\033[0m\")\n",
    "print(\"背景颜色：蓝色   \\033[1;44m    \\033[0m\")\n",
    "print(\"背景颜色：淡紫色 \\033[1;45m    \\033[0m\")\n",
    "print(\"背景颜色：青色   \\033[1;46m    \\033[0m\")\n",
    "print(\"背景颜色：灰色   \\033[1;47m    \\033[0m\")"
   ]
  },
  {
   "cell_type": "markdown",
   "id": "tribal-complaint",
   "metadata": {},
   "source": [
    "# 封装成方便调用的函数\n",
    "\n",
    "```python\n",
    "def printRED(a):\n",
    "    '''打印红色'''\n",
    "    print('\\033[31m%s\\033[0m'%a)\n",
    "\n",
    "def printGREEN(a):\n",
    "    '''打印绿色'''\n",
    "    print('\\033[32m%s\\033[0m'%a)\n",
    "    \n",
    "printGREEN('[+] ' + '192.168.1.1')\n",
    "printRED('[-] ' + '192.168.1.2')\n",
    "```"
   ]
  }
 ],
 "metadata": {
  "kernelspec": {
   "display_name": "Python 3",
   "language": "python",
   "name": "python3"
  },
  "language_info": {
   "codemirror_mode": {
    "name": "ipython",
    "version": 3
   },
   "file_extension": ".py",
   "mimetype": "text/x-python",
   "name": "python",
   "nbconvert_exporter": "python",
   "pygments_lexer": "ipython3",
   "version": "3.9.1"
  },
  "toc": {
   "base_numbering": 1,
   "nav_menu": {},
   "number_sections": true,
   "sideBar": true,
   "skip_h1_title": false,
   "title_cell": "Table of Contents",
   "title_sidebar": "Contents",
   "toc_cell": false,
   "toc_position": {},
   "toc_section_display": true,
   "toc_window_display": false
  },
  "varInspector": {
   "cols": {
    "lenName": 16,
    "lenType": 16,
    "lenVar": 40
   },
   "kernels_config": {
    "python": {
     "delete_cmd_postfix": "",
     "delete_cmd_prefix": "del ",
     "library": "var_list.py",
     "varRefreshCmd": "print(var_dic_list())"
    },
    "r": {
     "delete_cmd_postfix": ") ",
     "delete_cmd_prefix": "rm(",
     "library": "var_list.r",
     "varRefreshCmd": "cat(var_dic_list()) "
    }
   },
   "types_to_exclude": [
    "module",
    "function",
    "builtin_function_or_method",
    "instance",
    "_Feature"
   ],
   "window_display": false
  }
 },
 "nbformat": 4,
 "nbformat_minor": 5
}
