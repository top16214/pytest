{
 "metadata": {
  "language_info": {
   "codemirror_mode": {
    "name": "ipython",
    "version": 3
   },
   "file_extension": ".py",
   "mimetype": "text/x-python",
   "name": "python",
   "nbconvert_exporter": "python",
   "pygments_lexer": "ipython3",
   "version": "3.8.0-final"
  },
  "orig_nbformat": 2,
  "kernelspec": {
   "name": "python38064bitdf4ee2c985fd4d5b9c4a5d6abda99f34",
   "display_name": "Python 3.8.0 64-bit"
  }
 },
 "nbformat": 4,
 "nbformat_minor": 2,
 "cells": [
  {
   "cell_type": "markdown",
   "metadata": {},
   "source": [
    "# OS模块\n",
    "os module可以操控系统各种行为，得到各种信息  \n",
    "官方说明 https://docs.python.org/zh-cn/3/library/os.html"
   ]
  },
  {
   "cell_type": "code",
   "execution_count": null,
   "metadata": {},
   "outputs": [],
   "source": [
    "import os"
   ]
  },
  {
   "cell_type": "markdown",
   "metadata": {},
   "source": [
    "## 获取信息\n",
    "*注意有些方法和变量，在win下不可用*  \n",
    "\n",
    "os.getpid()         Return the current process id.  \n",
    "os.getppid()        Return the parent's process id.  \n",
    "os.getlogin()       Return the actual login name.  \n",
    "os.get_terminal_size()      返回终端窗口大小  \n",
    "os.getuid()         返回用户id，win下不适用  \n",
    "os.getgid()         返回用户所在组的id，win下不适用  \n",
    "os.geteuid()        返回当前进程的有效用户ID  \n",
    "\n"
   ]
  },
  {
   "cell_type": "markdown",
   "metadata": {},
   "source": [
    "## 环境变量\n",
    "os.environ.keys()   # 获得全部环境变量  \n",
    "os.environ()       #如果环境变量不存在，则引发异常。  \n",
    "os.getenv()        #不引发异常，但返回None。os.getenv()读取环境变量。比如，os.getenv('PATH')  \n",
    "os.putenv(key, value)      #将名为 key 的环境变量值设置为 value。该变量名修改会影响由 os.system()， popen() ，fork() 和 execv() 发起的子进程  \n",
    " "
   ]
  },
  {
   "cell_type": "code",
   "execution_count": null,
   "metadata": {},
   "outputs": [],
   "source": [
    "'''变量名称在win下不分大小，\n",
    "在Linux下要区分\n",
    "'''\n",
    "os.getenv(\"path\")\n",
    "os.getenv(\"home\")   # win \"homepath\"\n",
    "os.getenv(\"user\")   # win \"username\""
   ]
  },
  {
   "cell_type": "markdown",
   "metadata": {},
   "source": [
    "# OS路径相关 os.path\n",
    "\n",
    "os.getcwd()         Return a unicode string representing the current working directory.  \n",
    "os.chdir(path)          Change the current working directory to the specified path.path may always be specified as a string.本函数支持 指定文件描述符为参数。其中，描述符必须指向打开的目录，不能是打开的文件。  \n",
    "os.get_exec_path(env = None)    is used to get the list of directories that will be searched for a named executable while launching a process.  \n",
    "\n",
    "\n",
    "\n"
   ]
  },
  {
   "cell_type": "code",
   "execution_count": null,
   "metadata": {},
   "outputs": [],
   "source": [
    "os.get_exec_path()"
   ]
  },
  {
   "cell_type": "markdown",
   "metadata": {},
   "source": [
    "# 文件和目录\n",
    "很多例子，看这里 https://www.runoob.com/python3/python3-os-file-methods.html  \n",
    "\n",
    "\n",
    "fd文件描述符    通常在 os 模块中提供给函数的 path 参数必须是表示文件路径的字符串，但是，某些函数现在可以接受其 path 参数为打开文件描述符，该函数将对描述符指向的文件进行操作。（对于 POSIX 系统，Python 将调用以 f 开头的函数变体（如调用 fchdir 而不是 chdir）。）  \n",
    "\n",
    "基于目录描述符的相对路径： 如果 dir_fd 不是 None，它就应该是一个指向目录的文件描述符(a file descriptor open to a directory)，这时待操作的 path 应该是相对路径，相对路径是相对于前述目录的。如果 path 是绝对路径，则 dir_fd 将被忽略。（对于 POSIX 系统，Python 将调用该函数的变体，变体以 at 结尾，可能以 f 开头（如调用 faccessat 而不是 access）  \n",
    "\n",
    "参见指向目录的描述符例子，https://www.runoob.com/python3/python3-os-fchdir.html  \n",
    "\n",
    "os.access(path, mode)       os.access()方法使用当前的uid/gid尝试访问路径的可读写和执行权限  \n",
    "\n",
    "Syntax: os.chown(path, uid, gid, *, dir_fd = None, follow_symlinks = True)\n",
    "\n",
    "Parameters:\n",
    "path: A file descriptor representing the file whose uid and gid is to be set\n",
    "uid: An integer value representing the owner id to be set for the path.\n",
    "gid: An integer value representing the group id to be set for the path. To leave any one of the ids unchanged, set it to -1.\n",
    "dir_fd (optional): A file descriptor referring to a directory. The default value of this parameter is None.\n",
    "follow_symlinks (optional): The default value of this parameter is True. If we do not want os.chown() method to follow symlink, we can set it to False. If it is False, method will operate on the symbolic link itself instead of the file the link points to.\n",
    "\n",
    "Note: The ‘*’ in parameter list indicates that all following parameters (Here in our case ‘dir_fd’ and ‘follow_symlinks’) are keyword-only parameters and they can be provided using their name, not as a positional parameter.\n",
    "\n",
    "Return Type: This method does not return any value.\n",
    "见这个例子，这里 https://www.geeksforgeeks.org/python-os-chown-method/?ref=rp  \n",
    "\n",
    "os模块的open函数，和python内置模块open函数，有明显不同。  \n",
    "简单来说os.open()是底层操作，而内置open()是IO层面操作  \n",
    "\n"
   ]
  },
  {
   "cell_type": "code",
   "execution_count": 4,
   "metadata": {
    "tags": []
   },
   "outputs": [
    {
     "output_type": "stream",
     "name": "stdout",
     "text": "File path opened successfully.\nString written to the file descriptor.\n\nString read from the file descriptor:\nGeeksforGeeks: A computer science portal for geeks.\n\nFile descriptor closed successfully.\n"
    }
   ],
   "source": [
    "'''Syntax: os.open(path, flags, mode = 0o777, *, dir_fd = None)\n",
    "\n",
    "Parameters:\n",
    "Path: A path-like object representing the file system path. This is the file path to be opened.\n",
    "A path-like object is a string or bytes object which represents a path.\n",
    "flags: This parameter specify the flags to be set for newly opened file.\n",
    "mode (optional): A numeric value representing the mode of the newly opened file. The default value of this parameter is 0o777 (octal).\n",
    "dir_fd (optional): A file descriptor referring to a directory.\n",
    "\n",
    "Return Type: This method returns a file descriptor for newly opened file.'''\n",
    "\n",
    "# Python program to explain os.open() method  \n",
    "  \n",
    "# importing os module  \n",
    "import os \n",
    "  \n",
    "  \n",
    "# File path to be opened \n",
    "path = './file9.txt'\n",
    "  \n",
    "# Mode to be set  \n",
    "mode = 0o666\n",
    "  \n",
    "# flags \n",
    "flags = os.O_RDWR | os.O_CREAT \n",
    "  \n",
    "  \n",
    "# Open the specified file path \n",
    "# using os.open() method \n",
    "# and get the file descriptor for  \n",
    "# opened file path \n",
    "fd = os.open(path, flags, mode) \n",
    "  \n",
    "print(\"File path opened successfully.\") \n",
    "  \n",
    "  \n",
    "# Write a string to the file \n",
    "# using file descriptor \n",
    "str = \"GeeksforGeeks: A computer science portal for geeks.\"\n",
    "os.write(fd, str.encode()) \n",
    "print(\"String written to the file descriptor.\")  \n",
    "  \n",
    "  \n",
    "# Now read the file  \n",
    "# from beginning \n",
    "os.lseek(fd, 0, 0) \n",
    "str = os.read(fd, os.path.getsize(fd)) \n",
    "print(\"\\nString read from the file descriptor:\") \n",
    "print(str.decode()) \n",
    "  \n",
    "# Close the file descriptor \n",
    "os.close(fd) \n",
    "print(\"\\nFile descriptor closed successfully.\") \n"
   ]
  }
 ]
}