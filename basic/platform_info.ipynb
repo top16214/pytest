{
 "cells": [
  {
   "cell_type": "markdown",
   "metadata": {},
   "source": [
    "# platform得到平台各种信息"
   ]
  },
  {
   "cell_type": "code",
   "execution_count": 1,
   "metadata": {
    "ExecuteTime": {
     "end_time": "2020-08-01T17:11:41.003920Z",
     "start_time": "2020-08-01T17:11:40.977916Z"
    }
   },
   "outputs": [
    {
     "data": {
      "text/plain": [
       "['_WIN32_CLIENT_RELEASES',\n",
       " '_WIN32_SERVER_RELEASES',\n",
       " '__builtins__',\n",
       " '__cached__',\n",
       " '__copyright__',\n",
       " '__doc__',\n",
       " '__file__',\n",
       " '__loader__',\n",
       " '__name__',\n",
       " '__package__',\n",
       " '__spec__',\n",
       " '__version__',\n",
       " '_comparable_version',\n",
       " '_component_re',\n",
       " '_default_architecture',\n",
       " '_follow_symlinks',\n",
       " '_ironpython26_sys_version_parser',\n",
       " '_ironpython_sys_version_parser',\n",
       " '_java_getprop',\n",
       " '_libc_search',\n",
       " '_mac_ver_xml',\n",
       " '_node',\n",
       " '_norm_version',\n",
       " '_platform',\n",
       " '_platform_cache',\n",
       " '_pypy_sys_version_parser',\n",
       " '_sys_version',\n",
       " '_sys_version_cache',\n",
       " '_sys_version_parser',\n",
       " '_syscmd_file',\n",
       " '_syscmd_uname',\n",
       " '_syscmd_ver',\n",
       " '_uname_cache',\n",
       " '_ver_output',\n",
       " '_ver_stages',\n",
       " 'architecture',\n",
       " 'collections',\n",
       " 'java_ver',\n",
       " 'libc_ver',\n",
       " 'mac_ver',\n",
       " 'machine',\n",
       " 'node',\n",
       " 'os',\n",
       " 'platform',\n",
       " 'processor',\n",
       " 'python_branch',\n",
       " 'python_build',\n",
       " 'python_compiler',\n",
       " 'python_implementation',\n",
       " 'python_revision',\n",
       " 'python_version',\n",
       " 'python_version_tuple',\n",
       " 're',\n",
       " 'release',\n",
       " 'sys',\n",
       " 'system',\n",
       " 'system_alias',\n",
       " 'uname',\n",
       " 'uname_result',\n",
       " 'version',\n",
       " 'win32_edition',\n",
       " 'win32_is_iot',\n",
       " 'win32_ver']"
      ]
     },
     "execution_count": 1,
     "metadata": {},
     "output_type": "execute_result"
    }
   ],
   "source": [
    "import platform\n",
    "\n",
    "dir(platform)"
   ]
  },
  {
   "cell_type": "markdown",
   "metadata": {},
   "source": [
    "## 主要模块和函数\n",
    "platform.os  \n",
    "platform.sys  \n",
    "platform.re  \n"
   ]
  },
  {
   "cell_type": "code",
   "execution_count": 21,
   "metadata": {
    "ExecuteTime": {
     "end_time": "2020-08-01T17:41:37.643317Z",
     "start_time": "2020-08-01T17:41:37.618803Z"
    }
   },
   "outputs": [
    {
     "data": {
      "text/plain": [
       "('', '', ('', '', ''), ('', '', ''))"
      ]
     },
     "execution_count": 21,
     "metadata": {},
     "output_type": "execute_result"
    }
   ],
   "source": [
    "# 整平台综合信息\n",
    "platform.uname()   # uname_result(system='Windows', node='DESKTOP-PB5EMT1', release='10', version='10.0.18362', machine='AMD64', processor='AMD64 Family 23 Model 24 Stepping 1, AuthenticAMD')\n",
    "\n",
    "# 计算机节点名称\n",
    "platform.node()     # 'DESKTOP-PB5EMT1'\n",
    "\n",
    "\n",
    "# 系统类型，windows,linux,java\n",
    "platform.system()   # windows\n",
    "# 系统发行版本号\n",
    "platform.release()  # 10 （指win10）\n",
    "# 详细系统版本\n",
    "platform.platform()  #  'Windows-10-10.0.18362-SP0'\n",
    "platform.version()   # '10.0.18362'\n",
    "platform.win32_ver()  # ('10', '10.0.18362', 'SP0', '')\n",
    "\n",
    "\n",
    "# python版本\n",
    "platform.python_version()  # '3.8.0'\n",
    "platform.python_version_tuple()   # ('3', '8', '0')\n",
    "# python架构\n",
    "platform.architecture()   #  ('64bit', 'WindowsPE')\n",
    "\n",
    "\n",
    "# cpu info\n",
    "platform.processor()   # 'AMD64 Family 23 Model 24 Stepping 1, AuthenticAMD'\n"
   ]
  },
  {
   "cell_type": "code",
   "execution_count": null,
   "metadata": {},
   "outputs": [],
   "source": []
  }
 ],
 "metadata": {
  "kernelspec": {
   "display_name": "Python 3.8.0 64-bit",
   "language": "python",
   "name": "python38064bitdf4ee2c985fd4d5b9c4a5d6abda99f34"
  },
  "language_info": {
   "codemirror_mode": {
    "name": "ipython",
    "version": 3
   },
   "file_extension": ".py",
   "mimetype": "text/x-python",
   "name": "python",
   "nbconvert_exporter": "python",
   "pygments_lexer": "ipython3",
   "version": "3.8.0"
  },
  "toc": {
   "base_numbering": 1,
   "nav_menu": {},
   "number_sections": true,
   "sideBar": true,
   "skip_h1_title": false,
   "title_cell": "Table of Contents",
   "title_sidebar": "Contents",
   "toc_cell": false,
   "toc_position": {},
   "toc_section_display": true,
   "toc_window_display": false
  }
 },
 "nbformat": 4,
 "nbformat_minor": 4
}
