{
 "metadata": {
  "language_info": {
   "codemirror_mode": {
    "name": "ipython",
    "version": 3
   },
   "file_extension": ".py",
   "mimetype": "text/x-python",
   "name": "python",
   "nbconvert_exporter": "python",
   "pygments_lexer": "ipython3",
   "version": 3
  },
  "orig_nbformat": 2
 },
 "nbformat": 4,
 "nbformat_minor": 2,
 "cells": [
  {
   "cell_type": "markdown",
   "metadata": {},
   "source": [
    "# shutil 模块用法"
   ]
  },
  {
   "cell_type": "markdown",
   "metadata": {},
   "source": [
    "## rmtree\n",
    "rmtree 删除目录，即使目录非空。\n",
    "\n",
    "By design, rmtree fails on folder trees containing read-only files. If you want the folder to be deleted regardless of whether it contains read-only files, then use\n",
    "```python\n",
    "shutil.rmtree('/folder_name', ignore_errors=True)\n",
    "```"
   ]
  },
  {
   "cell_type": "code",
   "execution_count": null,
   "metadata": {},
   "outputs": [],
   "source": [
    "# 方法一：\n",
    "import shutil\n",
    "shutil.rmtree('/folder_name')       # 默认是不删除只读文件\n",
    "shutil.rmtree('/folder_name',ignore_errors=True)        # 连只读文件一起删除\n",
    "\n",
    "\n",
    "# 方法二：\n",
    "# Delete everything reachable from the directory named in 'top',\n",
    "# assuming there are no symbolic links.\n",
    "# CAUTION:  This is dangerous!  For example, if top == '/', it\n",
    "# could delete all your disk files.\n",
    "import os\n",
    "for root, dirs, files in os.walk(top, topdown=False):\n",
    "    for name in files:\n",
    "        os.remove(os.path.join(root, name))\n",
    "    for name in dirs:\n",
    "        os.rmdir(os.path.join(root, name))\n",
    "\n",
    "\n",
    "# python doc 里面清除只读文件的代码片段\n",
    "'''This example shows how to remove a directory tree on Windows where some of the files have their read-only bit set. It uses the onerror callback to clear the readonly bit and reattempt the remove. Any subsequent failure will propagate.\n",
    "'''\n",
    "\n",
    "import os, stat\n",
    "import shutil\n",
    "\n",
    "def remove_readonly(func, path, _):\n",
    "    \"Clear the readonly bit and reattempt the removal\"\n",
    "    os.chmod(path, stat.S_IWRITE)\n",
    "    func(path)\n",
    "\n",
    "shutil.rmtree(directory, onerror=remove_readonly)\n",
    "\n",
    "\n",
    "\n",
    "# 继续是删除只读文件的补充代码\n",
    "import os\n",
    "import stat\n",
    "import shutil\n",
    "\n",
    "def errorRemoveReadonly(func, path, exc):\n",
    "    excvalue = exc[1]\n",
    "    if func in (os.rmdir, os.remove) and excvalue.errno == errno.EACCES:\n",
    "        # change the file to be readable,writable,executable: 0777\n",
    "        os.chmod(path, stat.S_IRWXU | stat.S_IRWXG | stat.S_IRWXO)  \n",
    "        # retry\n",
    "        func(path)\n",
    "    else:\n",
    "        # raise enter code here\n",
    "\n",
    "shutil.rmtree(path, ignore_errors=False, onerror=errorRemoveReadonly)\n",
    "'''If ignore_errors is set, errors are ignored; otherwise, if onerror is set, it is called to handle the error with arguments (func, path, exc_info) where func is os.listdir, os.remove, or os.rmdir; path is the argument to that function that caused it to fail; and exc_info is a tuple returned by sys.exc_info(). If ignore_errors is false and onerror is None, an exception is raised.enter code here'''"
   ]
  },
  {
   "cell_type": "markdown",
   "metadata": {},
   "source": [
    "## os的目录和文件删除\n",
    "os.rmdir()      只能够删除空目录  \n",
    "os.rmdirs()     递归删除空目录  \n",
    "os.remove()     删除单文件  \n",
    "os.unlink()     等同os.remove  \n"
   ]
  },
  {
   "cell_type": "markdown",
   "metadata": {},
   "source": [
    "## os新建目录\n",
    "os.mkdir(path, mode=511, *, dir_fd=None)    Create a directory.  \n",
    "\n"
   ]
  }
 ]
}