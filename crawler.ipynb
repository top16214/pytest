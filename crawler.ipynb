{
 "cells": [
  {
   "cell_type": "code",
   "execution_count": 1,
   "metadata": {
    "ExecuteTime": {
     "end_time": "2020-12-31T07:14:57.537641Z",
     "start_time": "2020-12-31T07:14:20.087283Z"
    },
    "code_folding": [],
    "tags": []
   },
   "outputs": [
    {
     "name": "stdout",
     "output_type": "stream",
     "text": [
      "Input tujigu's URL:  https://www.tujigu.com/a/26990/\n"
     ]
    },
    {
     "name": "stderr",
     "output_type": "stream",
     "text": [
      "\r",
      "  0%|                                                                                                        | 0/80 [00:00<?, ?it/s]"
     ]
    },
    {
     "name": "stdout",
     "output_type": "stream",
     "text": [
      "似乎达了最后一页\n",
      "\n"
     ]
    },
    {
     "name": "stderr",
     "output_type": "stream",
     "text": [
      "\r",
      "  1%|█▏                                                                                              | 1/80 [00:00<00:23,  3.30it/s]"
     ]
    },
    {
     "name": "stdout",
     "output_type": "stream",
     "text": [
      "https://tjg.hywly.com/a/1/26990/1.jpg OK\n"
     ]
    },
    {
     "name": "stderr",
     "output_type": "stream",
     "text": [
      "\r",
      "  2%|██▍                                                                                             | 2/80 [00:00<00:30,  2.53it/s]"
     ]
    },
    {
     "name": "stdout",
     "output_type": "stream",
     "text": [
      "https://tjg.hywly.com/a/1/26990/2.jpg OK\n"
     ]
    },
    {
     "name": "stderr",
     "output_type": "stream",
     "text": [
      "\r",
      "  4%|███▌                                                                                            | 3/80 [00:01<00:28,  2.70it/s]"
     ]
    },
    {
     "name": "stdout",
     "output_type": "stream",
     "text": [
      "https://tjg.hywly.com/a/1/26990/3.jpg OK\n"
     ]
    },
    {
     "name": "stderr",
     "output_type": "stream",
     "text": [
      "\r",
      "  5%|████▊                                                                                           | 4/80 [00:01<00:27,  2.73it/s]"
     ]
    },
    {
     "name": "stdout",
     "output_type": "stream",
     "text": [
      "https://tjg.hywly.com/a/1/26990/4.jpg OK\n"
     ]
    },
    {
     "name": "stderr",
     "output_type": "stream",
     "text": [
      "\r",
      "  6%|██████                                                                                          | 5/80 [00:02<00:28,  2.60it/s]"
     ]
    },
    {
     "name": "stdout",
     "output_type": "stream",
     "text": [
      "https://tjg.hywly.com/a/1/26990/5.jpg OK\n"
     ]
    },
    {
     "name": "stderr",
     "output_type": "stream",
     "text": [
      "\r",
      "  8%|███████▏                                                                                        | 6/80 [00:02<00:35,  2.07it/s]"
     ]
    },
    {
     "name": "stdout",
     "output_type": "stream",
     "text": [
      "https://tjg.hywly.com/a/1/26990/6.jpg OK\n"
     ]
    },
    {
     "name": "stderr",
     "output_type": "stream",
     "text": [
      "\r",
      "  9%|████████▍                                                                                       | 7/80 [00:03<00:31,  2.34it/s]"
     ]
    },
    {
     "name": "stdout",
     "output_type": "stream",
     "text": [
      "https://tjg.hywly.com/a/1/26990/7.jpg OK\n"
     ]
    },
    {
     "name": "stderr",
     "output_type": "stream",
     "text": [
      "\r",
      " 10%|█████████▌                                                                                      | 8/80 [00:03<00:29,  2.43it/s]"
     ]
    },
    {
     "name": "stdout",
     "output_type": "stream",
     "text": [
      "https://tjg.hywly.com/a/1/26990/8.jpg OK\n"
     ]
    },
    {
     "name": "stderr",
     "output_type": "stream",
     "text": [
      "\r",
      " 11%|██████████▊                                                                                     | 9/80 [00:03<00:26,  2.70it/s]"
     ]
    },
    {
     "name": "stdout",
     "output_type": "stream",
     "text": [
      "https://tjg.hywly.com/a/1/26990/9.jpg OK\n"
     ]
    },
    {
     "name": "stderr",
     "output_type": "stream",
     "text": [
      "\r",
      " 12%|███████████▉                                                                                   | 10/80 [00:04<00:25,  2.74it/s]"
     ]
    },
    {
     "name": "stdout",
     "output_type": "stream",
     "text": [
      "https://tjg.hywly.com/a/1/26990/10.jpg OK\n"
     ]
    },
    {
     "name": "stderr",
     "output_type": "stream",
     "text": [
      "\r",
      " 14%|█████████████                                                                                  | 11/80 [00:04<00:25,  2.67it/s]"
     ]
    },
    {
     "name": "stdout",
     "output_type": "stream",
     "text": [
      "https://tjg.hywly.com/a/1/26990/11.jpg OK\n"
     ]
    },
    {
     "name": "stderr",
     "output_type": "stream",
     "text": [
      "\r",
      " 15%|██████████████▎                                                                                | 12/80 [00:04<00:26,  2.56it/s]"
     ]
    },
    {
     "name": "stdout",
     "output_type": "stream",
     "text": [
      "https://tjg.hywly.com/a/1/26990/12.jpg OK\n"
     ]
    },
    {
     "name": "stderr",
     "output_type": "stream",
     "text": [
      "\r",
      " 16%|███████████████▍                                                                               | 13/80 [00:05<00:31,  2.13it/s]"
     ]
    },
    {
     "name": "stdout",
     "output_type": "stream",
     "text": [
      "https://tjg.hywly.com/a/1/26990/13.jpg OK\n"
     ]
    },
    {
     "name": "stderr",
     "output_type": "stream",
     "text": [
      "\r",
      " 18%|████████████████▋                                                                              | 14/80 [00:05<00:28,  2.29it/s]"
     ]
    },
    {
     "name": "stdout",
     "output_type": "stream",
     "text": [
      "https://tjg.hywly.com/a/1/26990/14.jpg OK\n"
     ]
    },
    {
     "name": "stderr",
     "output_type": "stream",
     "text": [
      "\r",
      " 19%|█████████████████▊                                                                             | 15/80 [00:06<00:26,  2.50it/s]"
     ]
    },
    {
     "name": "stdout",
     "output_type": "stream",
     "text": [
      "https://tjg.hywly.com/a/1/26990/15.jpg OK\n"
     ]
    },
    {
     "name": "stderr",
     "output_type": "stream",
     "text": [
      "\r",
      " 20%|███████████████████                                                                            | 16/80 [00:06<00:23,  2.69it/s]"
     ]
    },
    {
     "name": "stdout",
     "output_type": "stream",
     "text": [
      "https://tjg.hywly.com/a/1/26990/16.jpg OK\n"
     ]
    },
    {
     "name": "stderr",
     "output_type": "stream",
     "text": [
      "\r",
      " 21%|████████████████████▏                                                                          | 17/80 [00:06<00:20,  3.06it/s]"
     ]
    },
    {
     "name": "stdout",
     "output_type": "stream",
     "text": [
      "https://tjg.hywly.com/a/1/26990/17.jpg OK\n"
     ]
    },
    {
     "name": "stderr",
     "output_type": "stream",
     "text": [
      "\r",
      " 22%|█████████████████████▍                                                                         | 18/80 [00:06<00:19,  3.16it/s]"
     ]
    },
    {
     "name": "stdout",
     "output_type": "stream",
     "text": [
      "https://tjg.hywly.com/a/1/26990/18.jpg OK\n"
     ]
    },
    {
     "name": "stderr",
     "output_type": "stream",
     "text": [
      "\r",
      " 24%|██████████████████████▌                                                                        | 19/80 [00:07<00:19,  3.17it/s]"
     ]
    },
    {
     "name": "stdout",
     "output_type": "stream",
     "text": [
      "https://tjg.hywly.com/a/1/26990/19.jpg OK\n"
     ]
    },
    {
     "name": "stderr",
     "output_type": "stream",
     "text": [
      "\r",
      " 25%|███████████████████████▊                                                                       | 20/80 [00:07<00:19,  3.12it/s]"
     ]
    },
    {
     "name": "stdout",
     "output_type": "stream",
     "text": [
      "https://tjg.hywly.com/a/1/26990/20.jpg OK\n"
     ]
    },
    {
     "name": "stderr",
     "output_type": "stream",
     "text": [
      "\r",
      " 26%|████████████████████████▉                                                                      | 21/80 [00:07<00:17,  3.42it/s]"
     ]
    },
    {
     "name": "stdout",
     "output_type": "stream",
     "text": [
      "https://tjg.hywly.com/a/1/26990/21.jpg OK\n"
     ]
    },
    {
     "name": "stderr",
     "output_type": "stream",
     "text": [
      "\r",
      " 28%|██████████████████████████▏                                                                    | 22/80 [00:08<00:17,  3.34it/s]"
     ]
    },
    {
     "name": "stdout",
     "output_type": "stream",
     "text": [
      "https://tjg.hywly.com/a/1/26990/22.jpg OK\n"
     ]
    },
    {
     "name": "stderr",
     "output_type": "stream",
     "text": [
      "\r",
      " 29%|███████████████████████████▎                                                                   | 23/80 [00:08<00:18,  3.06it/s]"
     ]
    },
    {
     "name": "stdout",
     "output_type": "stream",
     "text": [
      "https://tjg.hywly.com/a/1/26990/23.jpg OK\n"
     ]
    },
    {
     "name": "stderr",
     "output_type": "stream",
     "text": [
      "\r",
      " 30%|████████████████████████████▌                                                                  | 24/80 [00:08<00:17,  3.22it/s]"
     ]
    },
    {
     "name": "stdout",
     "output_type": "stream",
     "text": [
      "https://tjg.hywly.com/a/1/26990/24.jpg OK\n"
     ]
    },
    {
     "name": "stderr",
     "output_type": "stream",
     "text": [
      "\r",
      " 31%|█████████████████████████████▋                                                                 | 25/80 [00:09<00:16,  3.34it/s]"
     ]
    },
    {
     "name": "stdout",
     "output_type": "stream",
     "text": [
      "https://tjg.hywly.com/a/1/26990/25.jpg OK\n"
     ]
    },
    {
     "name": "stderr",
     "output_type": "stream",
     "text": [
      "\r",
      " 32%|██████████████████████████████▉                                                                | 26/80 [00:09<00:16,  3.21it/s]"
     ]
    },
    {
     "name": "stdout",
     "output_type": "stream",
     "text": [
      "https://tjg.hywly.com/a/1/26990/26.jpg OK\n"
     ]
    },
    {
     "name": "stderr",
     "output_type": "stream",
     "text": [
      "\r",
      " 34%|████████████████████████████████                                                               | 27/80 [00:09<00:15,  3.51it/s]"
     ]
    },
    {
     "name": "stdout",
     "output_type": "stream",
     "text": [
      "https://tjg.hywly.com/a/1/26990/27.jpg OK\n"
     ]
    },
    {
     "name": "stderr",
     "output_type": "stream",
     "text": [
      "\r",
      " 35%|█████████████████████████████████▎                                                             | 28/80 [00:10<00:15,  3.34it/s]"
     ]
    },
    {
     "name": "stdout",
     "output_type": "stream",
     "text": [
      "https://tjg.hywly.com/a/1/26990/28.jpg OK\n"
     ]
    },
    {
     "name": "stderr",
     "output_type": "stream",
     "text": [
      "\r",
      " 36%|██████████████████████████████████▍                                                            | 29/80 [00:10<00:15,  3.20it/s]"
     ]
    },
    {
     "name": "stdout",
     "output_type": "stream",
     "text": [
      "https://tjg.hywly.com/a/1/26990/29.jpg OK\n"
     ]
    },
    {
     "name": "stderr",
     "output_type": "stream",
     "text": [
      "\r",
      " 38%|███████████████████████████████████▋                                                           | 30/80 [00:10<00:17,  2.86it/s]"
     ]
    },
    {
     "name": "stdout",
     "output_type": "stream",
     "text": [
      "https://tjg.hywly.com/a/1/26990/30.jpg OK\n"
     ]
    },
    {
     "name": "stderr",
     "output_type": "stream",
     "text": [
      "\r",
      " 39%|████████████████████████████████████▊                                                          | 31/80 [00:11<00:16,  3.02it/s]"
     ]
    },
    {
     "name": "stdout",
     "output_type": "stream",
     "text": [
      "https://tjg.hywly.com/a/1/26990/31.jpg OK\n"
     ]
    },
    {
     "name": "stderr",
     "output_type": "stream",
     "text": [
      "\r",
      " 40%|██████████████████████████████████████                                                         | 32/80 [00:11<00:15,  3.07it/s]"
     ]
    },
    {
     "name": "stdout",
     "output_type": "stream",
     "text": [
      "https://tjg.hywly.com/a/1/26990/32.jpg OK\n"
     ]
    },
    {
     "name": "stderr",
     "output_type": "stream",
     "text": [
      "\r",
      " 41%|███████████████████████████████████████▏                                                       | 33/80 [00:11<00:14,  3.21it/s]"
     ]
    },
    {
     "name": "stdout",
     "output_type": "stream",
     "text": [
      "https://tjg.hywly.com/a/1/26990/33.jpg OK\n"
     ]
    },
    {
     "name": "stderr",
     "output_type": "stream",
     "text": [
      "\r",
      " 42%|████████████████████████████████████████▍                                                      | 34/80 [00:12<00:15,  3.06it/s]"
     ]
    },
    {
     "name": "stdout",
     "output_type": "stream",
     "text": [
      "https://tjg.hywly.com/a/1/26990/34.jpg OK\n"
     ]
    },
    {
     "name": "stderr",
     "output_type": "stream",
     "text": [
      "\r",
      " 44%|█████████████████████████████████████████▌                                                     | 35/80 [00:12<00:13,  3.37it/s]"
     ]
    },
    {
     "name": "stdout",
     "output_type": "stream",
     "text": [
      "https://tjg.hywly.com/a/1/26990/35.jpg OK\n"
     ]
    },
    {
     "name": "stderr",
     "output_type": "stream",
     "text": [
      "\r",
      " 45%|██████████████████████████████████████████▊                                                    | 36/80 [00:12<00:13,  3.37it/s]"
     ]
    },
    {
     "name": "stdout",
     "output_type": "stream",
     "text": [
      "https://tjg.hywly.com/a/1/26990/36.jpg OK\n"
     ]
    },
    {
     "name": "stderr",
     "output_type": "stream",
     "text": [
      "\r",
      " 46%|███████████████████████████████████████████▉                                                   | 37/80 [00:12<00:12,  3.43it/s]"
     ]
    },
    {
     "name": "stdout",
     "output_type": "stream",
     "text": [
      "https://tjg.hywly.com/a/1/26990/37.jpg OK\n"
     ]
    },
    {
     "name": "stderr",
     "output_type": "stream",
     "text": [
      "\r",
      " 48%|█████████████████████████████████████████████▏                                                 | 38/80 [00:13<00:12,  3.39it/s]"
     ]
    },
    {
     "name": "stdout",
     "output_type": "stream",
     "text": [
      "https://tjg.hywly.com/a/1/26990/38.jpg OK\n",
      "https://tjg.hywly.com/a/1/26990/39.jpg OK"
     ]
    },
    {
     "name": "stderr",
     "output_type": "stream",
     "text": [
      "\r",
      " 49%|██████████████████████████████████████████████▎                                                | 39/80 [00:13<00:10,  3.76it/s]"
     ]
    },
    {
     "name": "stdout",
     "output_type": "stream",
     "text": [
      "\n"
     ]
    },
    {
     "name": "stderr",
     "output_type": "stream",
     "text": [
      "\r",
      " 50%|███████████████████████████████████████████████▌                                               | 40/80 [00:13<00:10,  3.90it/s]"
     ]
    },
    {
     "name": "stdout",
     "output_type": "stream",
     "text": [
      "https://tjg.hywly.com/a/1/26990/40.jpg OK\n"
     ]
    },
    {
     "name": "stderr",
     "output_type": "stream",
     "text": [
      "\r",
      " 51%|████████████████████████████████████████████████▋                                              | 41/80 [00:13<00:10,  3.69it/s]"
     ]
    },
    {
     "name": "stdout",
     "output_type": "stream",
     "text": [
      "https://tjg.hywly.com/a/1/26990/41.jpg OK\n"
     ]
    },
    {
     "name": "stderr",
     "output_type": "stream",
     "text": [
      "\r",
      " 52%|█████████████████████████████████████████████████▉                                             | 42/80 [00:14<00:10,  3.72it/s]"
     ]
    },
    {
     "name": "stdout",
     "output_type": "stream",
     "text": [
      "https://tjg.hywly.com/a/1/26990/42.jpg OK\n"
     ]
    },
    {
     "name": "stderr",
     "output_type": "stream",
     "text": [
      "\r",
      " 54%|███████████████████████████████████████████████████                                            | 43/80 [00:14<00:10,  3.39it/s]"
     ]
    },
    {
     "name": "stdout",
     "output_type": "stream",
     "text": [
      "https://tjg.hywly.com/a/1/26990/43.jpg OK\n"
     ]
    },
    {
     "name": "stderr",
     "output_type": "stream",
     "text": [
      "\r",
      " 55%|████████████████████████████████████████████████████▎                                          | 44/80 [00:14<00:12,  2.98it/s]"
     ]
    },
    {
     "name": "stdout",
     "output_type": "stream",
     "text": [
      "https://tjg.hywly.com/a/1/26990/44.jpg OK\n"
     ]
    },
    {
     "name": "stderr",
     "output_type": "stream",
     "text": [
      "\r",
      " 56%|█████████████████████████████████████████████████████▍                                         | 45/80 [00:15<00:11,  3.02it/s]"
     ]
    },
    {
     "name": "stdout",
     "output_type": "stream",
     "text": [
      "https://tjg.hywly.com/a/1/26990/45.jpg OK\n"
     ]
    },
    {
     "name": "stderr",
     "output_type": "stream",
     "text": [
      "\r",
      " 57%|██████████████████████████████████████████████████████▌                                        | 46/80 [00:15<00:10,  3.22it/s]"
     ]
    },
    {
     "name": "stdout",
     "output_type": "stream",
     "text": [
      "https://tjg.hywly.com/a/1/26990/46.jpg OK\n"
     ]
    },
    {
     "name": "stderr",
     "output_type": "stream",
     "text": [
      "\r",
      " 59%|███████████████████████████████████████████████████████▊                                       | 47/80 [00:15<00:11,  2.98it/s]"
     ]
    },
    {
     "name": "stdout",
     "output_type": "stream",
     "text": [
      "https://tjg.hywly.com/a/1/26990/47.jpg OK\n"
     ]
    },
    {
     "name": "stderr",
     "output_type": "stream",
     "text": [
      "\r",
      " 60%|█████████████████████████████████████████████████████████                                      | 48/80 [00:16<00:10,  3.07it/s]"
     ]
    },
    {
     "name": "stdout",
     "output_type": "stream",
     "text": [
      "https://tjg.hywly.com/a/1/26990/48.jpg OK\n"
     ]
    },
    {
     "name": "stderr",
     "output_type": "stream",
     "text": [
      "\r",
      " 61%|██████████████████████████████████████████████████████████▏                                    | 49/80 [00:16<00:09,  3.18it/s]"
     ]
    },
    {
     "name": "stdout",
     "output_type": "stream",
     "text": [
      "https://tjg.hywly.com/a/1/26990/49.jpg OK\n"
     ]
    },
    {
     "name": "stderr",
     "output_type": "stream",
     "text": [
      "\r",
      " 62%|███████████████████████████████████████████████████████████▍                                   | 50/80 [00:16<00:09,  3.30it/s]"
     ]
    },
    {
     "name": "stdout",
     "output_type": "stream",
     "text": [
      "https://tjg.hywly.com/a/1/26990/50.jpg OK\n"
     ]
    },
    {
     "name": "stderr",
     "output_type": "stream",
     "text": [
      "\r",
      " 64%|████████████████████████████████████████████████████████████▌                                  | 51/80 [00:17<00:09,  3.03it/s]"
     ]
    },
    {
     "name": "stdout",
     "output_type": "stream",
     "text": [
      "https://tjg.hywly.com/a/1/26990/51.jpg OK\n"
     ]
    },
    {
     "name": "stderr",
     "output_type": "stream",
     "text": [
      "\r",
      " 65%|█████████████████████████████████████████████████████████████▊                                 | 52/80 [00:17<00:08,  3.30it/s]"
     ]
    },
    {
     "name": "stdout",
     "output_type": "stream",
     "text": [
      "https://tjg.hywly.com/a/1/26990/52.jpg OK\n"
     ]
    },
    {
     "name": "stderr",
     "output_type": "stream",
     "text": [
      "\r",
      " 66%|██████████████████████████████████████████████████████████████▉                                | 53/80 [00:17<00:09,  2.89it/s]"
     ]
    },
    {
     "name": "stdout",
     "output_type": "stream",
     "text": [
      "https://tjg.hywly.com/a/1/26990/53.jpg OK\n"
     ]
    },
    {
     "name": "stderr",
     "output_type": "stream",
     "text": [
      "\r",
      " 68%|████████████████████████████████████████████████████████████████▏                              | 54/80 [00:18<00:08,  3.13it/s]"
     ]
    },
    {
     "name": "stdout",
     "output_type": "stream",
     "text": [
      "https://tjg.hywly.com/a/1/26990/54.jpg OK\n"
     ]
    },
    {
     "name": "stderr",
     "output_type": "stream",
     "text": [
      " 70%|██████████████████████████████████████████████████████████████████▌                            | 56/80 [00:18<00:06,  3.73it/s]"
     ]
    },
    {
     "name": "stdout",
     "output_type": "stream",
     "text": [
      "https://tjg.hywly.com/a/1/26990/55.jpg OK\n",
      "https://tjg.hywly.com/a/1/26990/56.jpg OK\n"
     ]
    },
    {
     "name": "stderr",
     "output_type": "stream",
     "text": [
      "\r",
      " 71%|███████████████████████████████████████████████████████████████████▋                           | 57/80 [00:18<00:06,  3.52it/s]"
     ]
    },
    {
     "name": "stdout",
     "output_type": "stream",
     "text": [
      "https://tjg.hywly.com/a/1/26990/57.jpg OK\n"
     ]
    },
    {
     "name": "stderr",
     "output_type": "stream",
     "text": [
      "\r",
      " 72%|████████████████████████████████████████████████████████████████████▉                          | 58/80 [00:19<00:05,  3.81it/s]"
     ]
    },
    {
     "name": "stdout",
     "output_type": "stream",
     "text": [
      "https://tjg.hywly.com/a/1/26990/58.jpg OK\n"
     ]
    },
    {
     "name": "stderr",
     "output_type": "stream",
     "text": [
      "\r",
      " 74%|██████████████████████████████████████████████████████████████████████                         | 59/80 [00:19<00:05,  4.02it/s]"
     ]
    },
    {
     "name": "stdout",
     "output_type": "stream",
     "text": [
      "https://tjg.hywly.com/a/1/26990/59.jpg OK\n"
     ]
    },
    {
     "name": "stderr",
     "output_type": "stream",
     "text": [
      "\r",
      " 75%|███████████████████████████████████████████████████████████████████████▎                       | 60/80 [00:19<00:05,  3.80it/s]"
     ]
    },
    {
     "name": "stdout",
     "output_type": "stream",
     "text": [
      "https://tjg.hywly.com/a/1/26990/60.jpg OK\n"
     ]
    },
    {
     "name": "stderr",
     "output_type": "stream",
     "text": [
      "\r",
      " 76%|████████████████████████████████████████████████████████████████████████▍                      | 61/80 [00:20<00:07,  2.71it/s]"
     ]
    },
    {
     "name": "stdout",
     "output_type": "stream",
     "text": [
      "https://tjg.hywly.com/a/1/26990/61.jpg OK\n"
     ]
    },
    {
     "name": "stderr",
     "output_type": "stream",
     "text": [
      "\r",
      " 78%|█████████████████████████████████████████████████████████████████████████▋                     | 62/80 [00:20<00:06,  2.89it/s]"
     ]
    },
    {
     "name": "stdout",
     "output_type": "stream",
     "text": [
      "https://tjg.hywly.com/a/1/26990/62.jpg OK\n"
     ]
    },
    {
     "name": "stderr",
     "output_type": "stream",
     "text": [
      "\r",
      " 79%|██████████████████████████████████████████████████████████████████████████▊                    | 63/80 [00:21<00:07,  2.41it/s]"
     ]
    },
    {
     "name": "stdout",
     "output_type": "stream",
     "text": [
      "https://tjg.hywly.com/a/1/26990/63.jpg OK\n"
     ]
    },
    {
     "name": "stderr",
     "output_type": "stream",
     "text": [
      "\r",
      " 80%|████████████████████████████████████████████████████████████████████████████                   | 64/80 [00:22<00:09,  1.70it/s]"
     ]
    },
    {
     "name": "stdout",
     "output_type": "stream",
     "text": [
      "https://tjg.hywly.com/a/1/26990/64.jpg OK\n"
     ]
    },
    {
     "name": "stderr",
     "output_type": "stream",
     "text": [
      "\r",
      " 81%|█████████████████████████████████████████████████████████████████████████████▏                 | 65/80 [00:22<00:07,  1.96it/s]"
     ]
    },
    {
     "name": "stdout",
     "output_type": "stream",
     "text": [
      "https://tjg.hywly.com/a/1/26990/65.jpg OK\n"
     ]
    },
    {
     "name": "stderr",
     "output_type": "stream",
     "text": [
      "\r",
      " 82%|██████████████████████████████████████████████████████████████████████████████▍                | 66/80 [00:22<00:06,  2.32it/s]"
     ]
    },
    {
     "name": "stdout",
     "output_type": "stream",
     "text": [
      "https://tjg.hywly.com/a/1/26990/66.jpg OK\n"
     ]
    },
    {
     "name": "stderr",
     "output_type": "stream",
     "text": [
      "\r",
      " 84%|███████████████████████████████████████████████████████████████████████████████▌               | 67/80 [00:22<00:04,  2.70it/s]"
     ]
    },
    {
     "name": "stdout",
     "output_type": "stream",
     "text": [
      "https://tjg.hywly.com/a/1/26990/67.jpg OK\n"
     ]
    },
    {
     "name": "stderr",
     "output_type": "stream",
     "text": [
      "\r",
      " 85%|████████████████████████████████████████████████████████████████████████████████▊              | 68/80 [00:23<00:05,  2.07it/s]"
     ]
    },
    {
     "name": "stdout",
     "output_type": "stream",
     "text": [
      "https://tjg.hywly.com/a/1/26990/68.jpg OK\n"
     ]
    },
    {
     "name": "stderr",
     "output_type": "stream",
     "text": [
      "\r",
      " 86%|█████████████████████████████████████████████████████████████████████████████████▉             | 69/80 [00:23<00:04,  2.36it/s]"
     ]
    },
    {
     "name": "stdout",
     "output_type": "stream",
     "text": [
      "https://tjg.hywly.com/a/1/26990/69.jpg OK\n"
     ]
    },
    {
     "name": "stderr",
     "output_type": "stream",
     "text": [
      "\r",
      " 88%|███████████████████████████████████████████████████████████████████████████████████▏           | 70/80 [00:25<00:06,  1.61it/s]"
     ]
    },
    {
     "name": "stdout",
     "output_type": "stream",
     "text": [
      "https://tjg.hywly.com/a/1/26990/70.jpg OK\n"
     ]
    },
    {
     "name": "stderr",
     "output_type": "stream",
     "text": [
      "\r",
      " 89%|████████████████████████████████████████████████████████████████████████████████████▎          | 71/80 [00:25<00:04,  1.92it/s]"
     ]
    },
    {
     "name": "stdout",
     "output_type": "stream",
     "text": [
      "https://tjg.hywly.com/a/1/26990/71.jpg OK\n"
     ]
    },
    {
     "name": "stderr",
     "output_type": "stream",
     "text": [
      "\r",
      " 90%|█████████████████████████████████████████████████████████████████████████████████████▌         | 72/80 [00:25<00:03,  2.16it/s]"
     ]
    },
    {
     "name": "stdout",
     "output_type": "stream",
     "text": [
      "https://tjg.hywly.com/a/1/26990/72.jpg OK\n"
     ]
    },
    {
     "name": "stderr",
     "output_type": "stream",
     "text": [
      "\r",
      " 91%|██████████████████████████████████████████████████████████████████████████████████████▋        | 73/80 [00:27<00:07,  1.01s/it]"
     ]
    },
    {
     "name": "stdout",
     "output_type": "stream",
     "text": [
      "https://tjg.hywly.com/a/1/26990/73.jpg OK\n",
      "https://tjg.hywly.com/a/1/26990/74.jpg OK"
     ]
    },
    {
     "name": "stderr",
     "output_type": "stream",
     "text": [
      "\r",
      " 92%|███████████████████████████████████████████████████████████████████████████████████████▉       | 74/80 [00:28<00:04,  1.30it/s]"
     ]
    },
    {
     "name": "stdout",
     "output_type": "stream",
     "text": [
      "\n"
     ]
    },
    {
     "name": "stderr",
     "output_type": "stream",
     "text": [
      "\r",
      " 94%|█████████████████████████████████████████████████████████████████████████████████████████      | 75/80 [00:28<00:03,  1.67it/s]"
     ]
    },
    {
     "name": "stdout",
     "output_type": "stream",
     "text": [
      "https://tjg.hywly.com/a/1/26990/75.jpg OK\n"
     ]
    },
    {
     "name": "stderr",
     "output_type": "stream",
     "text": [
      "\r",
      " 95%|██████████████████████████████████████████████████████████████████████████████████████████▎    | 76/80 [00:28<00:02,  1.93it/s]"
     ]
    },
    {
     "name": "stdout",
     "output_type": "stream",
     "text": [
      "https://tjg.hywly.com/a/1/26990/76.jpg OK\n"
     ]
    },
    {
     "name": "stderr",
     "output_type": "stream",
     "text": [
      "\r",
      " 96%|███████████████████████████████████████████████████████████████████████████████████████████▍   | 77/80 [00:29<00:01,  1.88it/s]"
     ]
    },
    {
     "name": "stdout",
     "output_type": "stream",
     "text": [
      "https://tjg.hywly.com/a/1/26990/77.jpg OK\n"
     ]
    },
    {
     "name": "stderr",
     "output_type": "stream",
     "text": [
      "\r",
      " 98%|████████████████████████████████████████████████████████████████████████████████████████████▋  | 78/80 [00:29<00:00,  2.25it/s]"
     ]
    },
    {
     "name": "stdout",
     "output_type": "stream",
     "text": [
      "https://tjg.hywly.com/a/1/26990/78.jpg OK\n"
     ]
    },
    {
     "name": "stderr",
     "output_type": "stream",
     "text": [
      "\r",
      " 99%|█████████████████████████████████████████████████████████████████████████████████████████████▊ | 79/80 [00:30<00:00,  1.99it/s]"
     ]
    },
    {
     "name": "stdout",
     "output_type": "stream",
     "text": [
      "https://tjg.hywly.com/a/1/26990/79.jpg OK\n"
     ]
    },
    {
     "name": "stderr",
     "output_type": "stream",
     "text": [
      "100%|███████████████████████████████████████████████████████████████████████████████████████████████| 80/80 [00:30<00:00,  2.63it/s]"
     ]
    },
    {
     "name": "stdout",
     "output_type": "stream",
     "text": [
      "https://tjg.hywly.com/a/1/26990/80.jpg OK\n",
      "\n",
      "\n",
      "All Done! 80 files are downloaded...\n"
     ]
    },
    {
     "name": "stderr",
     "output_type": "stream",
     "text": [
      "\n"
     ]
    },
    {
     "ename": "SystemExit",
     "evalue": "0",
     "output_type": "error",
     "traceback": [
      "An exception has occurred, use %tb to see the full traceback.\n",
      "\u001b[1;31mSystemExit\u001b[0m\u001b[1;31m:\u001b[0m 0\n"
     ]
    },
    {
     "name": "stderr",
     "output_type": "stream",
     "text": [
      "C:\\Users\\topgu\\AppData\\Roaming\\Python\\Python38\\site-packages\\IPython\\core\\interactiveshell.py:3426: UserWarning: To exit: use 'exit', 'quit', or Ctrl-D.\n",
      "  warn(\"To exit: use 'exit', 'quit', or Ctrl-D.\", stacklevel=1)\n"
     ]
    }
   ],
   "source": [
    "# 下载 tujigu 上面的套图，单进程顺序下载，速度较慢\n",
    "# -*- coding:UTF-8 -*-\n",
    "from urllib import request\n",
    "from urllib import parse\n",
    "from bs4 import BeautifulSoup\n",
    "import os, sys\n",
    "from tqdm import tqdm\n",
    "\n",
    "# make a fake user-agent\n",
    "headers = {}\n",
    "headers[\n",
    "    'User-Agent'] = \"Mozilla/5.0 (X11; Linux i686) AppleWebKit/537.17 (KHTML, like Gecko) Chrome/24.0.1312.27 Safari/537.17\"\n",
    "\n",
    "# store all page's pic links into pic_links\n",
    "pic_links = []\n",
    "\n",
    "\n",
    "def down_pics(title):\n",
    "    \"\"\"down all pics in pic_links\"\"\"\n",
    "    name = title.split('/')[0].split()\n",
    "    name[0], name[1] = name[1], name[0]\n",
    "    name[-1] = name[-1].replace('写真集', '')\n",
    "    dirname = \"_\".join(name)\n",
    "\n",
    "    try:\n",
    "        os.mkdir(dirname)\n",
    "    except FileExistsError:\n",
    "        import shutil\n",
    "        shutil.rmtree(dirname, ignore_errors=True)\n",
    "        os.mkdir(dirname)\n",
    "\n",
    "    for item in tqdm(pic_links):\n",
    "        basename = os.path.basename(item)\n",
    "        localname = os.path.join(dirname, basename)\n",
    "        try:\n",
    "            request.urlretrieve(item, localname)\n",
    "        except error.HTTPError as e:\n",
    "            print(e.reason)\n",
    "        except error.URLError as e:\n",
    "            print(e.reason)\n",
    "        else:\n",
    "            print(\"{} OK\".format(item))\n",
    "\n",
    "\n",
    "def get_plain_html(url):\n",
    "    '''get URL's html plain text'''\n",
    "    req = request.Request(url, headers=headers)\n",
    "    response = request.urlopen(req)\n",
    "    respData = response.read()\n",
    "    htmltext = respData.decode()\n",
    "    return htmltext, response\n",
    "\n",
    "\n",
    "def get_next_page_link(bs, response):\n",
    "    '''get next page's url'''\n",
    "    content = bs.find('div', id=\"pages\")\n",
    "    # get all page links\n",
    "    # print(content.contents)\n",
    "\n",
    "    # get next page's link\n",
    "    nextPageLink = content.contents[-1]\n",
    "    nextPageLink = nextPageLink[\"href\"]\n",
    "    # print(\"下一页：{}\".format(nextPageLink))\n",
    "\n",
    "    if nextPageLink == response.geturl():\n",
    "        print(\"似乎达了最后一页\\n\")\n",
    "        return None\n",
    "    else:\n",
    "        return nextPageLink\n",
    "\n",
    "\n",
    "def save_pics(bs):\n",
    "    '''save current page's pics in pic_links list'''\n",
    "    imgs = bs.find(\"div\", class_=\"content\")\n",
    "    cc = imgs.contents\n",
    "    # 第一个元素是空值，舍去\n",
    "    for link in cc[1:]:\n",
    "        pic_links.append(link['src'])\n",
    "\n",
    "\n",
    "def _main():\n",
    "    while True:\n",
    "        url = input(\"Input tujigu's URL:  \")\n",
    "        if parse.urlsplit(url).netloc == 'www.tujigu.com':\n",
    "            break\n",
    "        else:\n",
    "            print(\"Accept tujigu's url ONLY!!!\\nPlease do it again\")\n",
    "\n",
    "    while url:\n",
    "        plain_html, response = get_plain_html(url)\n",
    "        bs = BeautifulSoup(plain_html, \"lxml\")\n",
    "        save_pics(bs)\n",
    "        url = get_next_page_link(bs, response)\n",
    "\n",
    "    title = bs.find('title').string\n",
    "\n",
    "    # time to download all the pics\n",
    "    down_pics(title)\n",
    "\n",
    "    print(\"\\n\\nAll Done! {} files are downloaded...\".format(len(pic_links)))\n",
    "    return 0\n",
    "\n",
    "\n",
    "if __name__ == \"__main__\":\n",
    "    sys.exit(_main())"
   ]
  },
  {
   "cell_type": "code",
   "execution_count": 1,
   "metadata": {
    "ExecuteTime": {
     "end_time": "2020-08-02T07:56:29.180254Z",
     "start_time": "2020-08-02T07:56:29.143772Z"
    }
   },
   "outputs": [
    {
     "data": {
      "text/plain": [
       "['DefragResult',\n",
       " 'DefragResultBytes',\n",
       " 'MAX_CACHE_SIZE',\n",
       " 'ParseResult',\n",
       " 'ParseResultBytes',\n",
       " 'Quoter',\n",
       " 'ResultBase',\n",
       " 'SplitResult',\n",
       " 'SplitResultBytes',\n",
       " '_ALWAYS_SAFE',\n",
       " '_ALWAYS_SAFE_BYTES',\n",
       " '_DefragResultBase',\n",
       " '_NetlocResultMixinBase',\n",
       " '_NetlocResultMixinBytes',\n",
       " '_NetlocResultMixinStr',\n",
       " '_ParseResultBase',\n",
       " '_ResultMixinBytes',\n",
       " '_ResultMixinStr',\n",
       " '_SplitResultBase',\n",
       " '__all__',\n",
       " '__builtins__',\n",
       " '__cached__',\n",
       " '__doc__',\n",
       " '__file__',\n",
       " '__loader__',\n",
       " '__name__',\n",
       " '__package__',\n",
       " '__spec__',\n",
       " '_asciire',\n",
       " '_checknetloc',\n",
       " '_coerce_args',\n",
       " '_decode_args',\n",
       " '_encode_result',\n",
       " '_hexdig',\n",
       " '_hextobyte',\n",
       " '_hostprog',\n",
       " '_implicit_encoding',\n",
       " '_implicit_errors',\n",
       " '_noop',\n",
       " '_parse_cache',\n",
       " '_portprog',\n",
       " '_safe_quoters',\n",
       " '_splitattr',\n",
       " '_splithost',\n",
       " '_splitnetloc',\n",
       " '_splitnport',\n",
       " '_splitparams',\n",
       " '_splitpasswd',\n",
       " '_splitport',\n",
       " '_splitquery',\n",
       " '_splittag',\n",
       " '_splittype',\n",
       " '_splituser',\n",
       " '_splitvalue',\n",
       " '_to_bytes',\n",
       " '_typeprog',\n",
       " 'clear_cache',\n",
       " 'collections',\n",
       " 'namedtuple',\n",
       " 'non_hierarchical',\n",
       " 'parse_qs',\n",
       " 'parse_qsl',\n",
       " 'quote',\n",
       " 'quote_from_bytes',\n",
       " 'quote_plus',\n",
       " 're',\n",
       " 'scheme_chars',\n",
       " 'splitattr',\n",
       " 'splithost',\n",
       " 'splitnport',\n",
       " 'splitpasswd',\n",
       " 'splitport',\n",
       " 'splitquery',\n",
       " 'splittag',\n",
       " 'splittype',\n",
       " 'splituser',\n",
       " 'splitvalue',\n",
       " 'sys',\n",
       " 'to_bytes',\n",
       " 'unquote',\n",
       " 'unquote_plus',\n",
       " 'unquote_to_bytes',\n",
       " 'unwrap',\n",
       " 'urldefrag',\n",
       " 'urlencode',\n",
       " 'urljoin',\n",
       " 'urlparse',\n",
       " 'urlsplit',\n",
       " 'urlunparse',\n",
       " 'urlunsplit',\n",
       " 'uses_fragment',\n",
       " 'uses_netloc',\n",
       " 'uses_params',\n",
       " 'uses_query',\n",
       " 'uses_relative',\n",
       " 'warnings']"
      ]
     },
     "execution_count": 1,
     "metadata": {},
     "output_type": "execute_result"
    }
   ],
   "source": [
    "# -*-coding:utf-8 -*-\n",
    "# 尝试用协程和多线程来下载tujigu图库\n",
    "\n",
    "from urllib import request,parse\n",
    "from bs4 import BeautifulSoup\n",
    "import shutil\n",
    "import asyncio\n",
    "\n",
    "\n",
    "\n",
    "def _main():\n",
    "    '''boss here'''\n",
    "    # get target URL\n",
    "    while True:\n",
    "        url = input(\"Input tujigu's URL:  \")\n",
    "        if parse.urlsplit(url).netloc == 'www.tujigu.com':\n",
    "            break\n",
    "        else:\n",
    "            print(\"Accept tujigu's url ONLY!!!\\nPlease do it again\")\n",
    "    \n",
    "    # more work to do here\n",
    "    pass\n",
    "\n",
    "\n",
    "if __name__ == \"__main__\":\n",
    "    _main()\n"
   ]
  },
  {
   "cell_type": "code",
   "execution_count": 2,
   "metadata": {
    "ExecuteTime": {
     "end_time": "2020-08-01T17:05:20.623151Z",
     "start_time": "2020-08-01T17:05:20.588354Z"
    }
   },
   "outputs": [
    {
     "data": {
      "text/plain": [
       "['__breakpointhook__',\n",
       " '__displayhook__',\n",
       " '__doc__',\n",
       " '__excepthook__',\n",
       " '__interactivehook__',\n",
       " '__loader__',\n",
       " '__name__',\n",
       " '__package__',\n",
       " '__spec__',\n",
       " '__stderr__',\n",
       " '__stdin__',\n",
       " '__stdout__',\n",
       " '__unraisablehook__',\n",
       " '_base_executable',\n",
       " '_clear_type_cache',\n",
       " '_current_frames',\n",
       " '_debugmallocstats',\n",
       " '_enablelegacywindowsfsencoding',\n",
       " '_framework',\n",
       " '_getframe',\n",
       " '_git',\n",
       " '_home',\n",
       " '_xoptions',\n",
       " 'addaudithook',\n",
       " 'api_version',\n",
       " 'argv',\n",
       " 'audit',\n",
       " 'base_exec_prefix',\n",
       " 'base_prefix',\n",
       " 'breakpointhook',\n",
       " 'builtin_module_names',\n",
       " 'byteorder',\n",
       " 'call_tracing',\n",
       " 'callstats',\n",
       " 'copyright',\n",
       " 'displayhook',\n",
       " 'dllhandle',\n",
       " 'dont_write_bytecode',\n",
       " 'exc_info',\n",
       " 'excepthook',\n",
       " 'exec_prefix',\n",
       " 'executable',\n",
       " 'exit',\n",
       " 'flags',\n",
       " 'float_info',\n",
       " 'float_repr_style',\n",
       " 'get_asyncgen_hooks',\n",
       " 'get_coroutine_origin_tracking_depth',\n",
       " 'getallocatedblocks',\n",
       " 'getcheckinterval',\n",
       " 'getdefaultencoding',\n",
       " 'getfilesystemencodeerrors',\n",
       " 'getfilesystemencoding',\n",
       " 'getprofile',\n",
       " 'getrecursionlimit',\n",
       " 'getrefcount',\n",
       " 'getsizeof',\n",
       " 'getswitchinterval',\n",
       " 'gettrace',\n",
       " 'getwindowsversion',\n",
       " 'hash_info',\n",
       " 'hexversion',\n",
       " 'implementation',\n",
       " 'int_info',\n",
       " 'intern',\n",
       " 'is_finalizing',\n",
       " 'last_traceback',\n",
       " 'last_type',\n",
       " 'last_value',\n",
       " 'maxsize',\n",
       " 'maxunicode',\n",
       " 'meta_path',\n",
       " 'modules',\n",
       " 'path',\n",
       " 'path_hooks',\n",
       " 'path_importer_cache',\n",
       " 'platform',\n",
       " 'prefix',\n",
       " 'ps1',\n",
       " 'ps2',\n",
       " 'ps3',\n",
       " 'pycache_prefix',\n",
       " 'set_asyncgen_hooks',\n",
       " 'set_coroutine_origin_tracking_depth',\n",
       " 'setcheckinterval',\n",
       " 'setprofile',\n",
       " 'setrecursionlimit',\n",
       " 'setswitchinterval',\n",
       " 'settrace',\n",
       " 'stderr',\n",
       " 'stdin',\n",
       " 'stdout',\n",
       " 'thread_info',\n",
       " 'unraisablehook',\n",
       " 'version',\n",
       " 'version_info',\n",
       " 'warnoptions',\n",
       " 'winver']"
      ]
     },
     "execution_count": 2,
     "metadata": {},
     "output_type": "execute_result"
    }
   ],
   "source": [
    "# for item :=0 in range(20):\n",
    "#     if item < 10:\n",
    "#         print(f\"hello,{item}\")\n",
    "#     else:\n",
    "#         print(f\"it's over.{item}\")\n",
    "\n",
    "# print(walrus := True)\n",
    "\n",
    "import platform\n",
    "\n",
    "dir(platform.sys)"
   ]
  },
  {
   "cell_type": "code",
   "execution_count": null,
   "metadata": {
    "ExecuteTime": {
     "end_time": "2020-07-03T16:26:59.408945Z",
     "start_time": "2020-07-03T16:26:59.393945Z"
    },
    "code_folding": [],
    "scrolled": true
   },
   "outputs": [],
   "source": [
    "li = list()\n",
    "\n",
    "li.append(3)\n",
    "li.append('hello.py')\n",
    "print(li)\n",
    "print(not bool(li))\n",
    "\n",
    "s1 = \"hello\"\n",
    "s2 = \"hello\"\n",
    "# if s1 == s2:\n",
    "#     print(\"s1 equals to s2\")\n",
    "\n",
    "# print(id(s1))\n",
    "# print(id(s2))\n",
    "    \n",
    "if id(s1) == id(s2):\n",
    "    print(\"s1 equals to s2\")\n",
    "\n",
    "    \n",
    "if s1 is s2:\n",
    "    print(\"s1 equals to s2\")\n",
    "    \n",
    "\n"
   ]
  },
  {
   "cell_type": "code",
   "execution_count": null,
   "metadata": {
    "ExecuteTime": {
     "end_time": "2020-07-17T14:18:06.910611Z",
     "start_time": "2020-07-17T14:18:06.904608Z"
    },
    "code_folding": []
   },
   "outputs": [],
   "source": [
    "from bs4 import BeautifulSoup\n",
    "\n",
    "html_doc = \"\"\"\n",
    "<img alt='Original Xiaomi Redmi Note 5 4GB RAM 64GB ROM Snapdragon S636 Octa Core Mobile Phone MIUI9 5.99\" 2160*1080 4000mAh 12.0+5.0MP(China)' class=\"picCore\" id=\"limage_32856997152\" image-src=\"//ae01.alicdn.com/kf/HTB1WDJZbE_rK1Rjy0Fcq6zEvVXaS/Original-Xiaomi-Redmi-Note-5-4GB-RAM-64GB-ROM-Snapdragon-S636-Octa-Core-Mobile-Phone-MIUI9.jpg_220x220xz.jpg\" itemprop=\"image\"/>\n",
    "\"\"\"\n",
    "\n",
    "soup = BeautifulSoup(html_doc, 'html.parser')\n",
    "\n",
    "a1 = soup.select(\"img\")\n",
    "# print(a1)\n",
    "# print(type(a1))\n",
    "# print(dir(a1))\n",
    "print(a1[0].get(\"alt\"))\n",
    "\n",
    "\n",
    "# for link in soup.find_all('img'):\n",
    "#     print(link.get('image-src'))"
   ]
  },
  {
   "cell_type": "code",
   "execution_count": null,
   "metadata": {
    "ExecuteTime": {
     "end_time": "2020-07-31T17:33:12.354611Z",
     "start_time": "2020-07-31T17:33:10.855459Z"
    }
   },
   "outputs": [],
   "source": [
    "import urllib\n",
    "import tqdm\n",
    "\n",
    "url = r'https://www.mymypic.net/data/attachment/forum/202001/15/202806n4a3rnw5nlg3gc55.jpg.thumb.jpg'\n",
    "\n",
    "r = urllib.request.urlopen(url)\n",
    "r.length"
   ]
  },
  {
   "cell_type": "code",
   "execution_count": null,
   "metadata": {
    "ExecuteTime": {
     "end_time": "2020-07-31T17:42:20.944343Z",
     "start_time": "2020-07-31T17:39:31.653647Z"
    }
   },
   "outputs": [],
   "source": [
    "from tqdm import trange\n",
    "from colorama import Fore\n",
    "\n",
    "# Cross-platform colored terminal text.\n",
    "color_bars = [Fore.BLACK,\n",
    "    Fore.RED,\n",
    "    Fore.GREEN,\n",
    "    Fore.YELLOW,\n",
    "    Fore.BLUE,\n",
    "    Fore.MAGENTA,\n",
    "    Fore.CYAN,\n",
    "    Fore.WHITE]\n",
    "\n",
    "for color in color_bars:\n",
    "    for i in trange(int(7e7),\n",
    "                    bar_format=\"{l_bar}%s{bar}%s{r_bar}\" % (color, Fore.RESET)):\n",
    "        pass"
   ]
  },
  {
   "cell_type": "code",
   "execution_count": null,
   "metadata": {
    "ExecuteTime": {
     "end_time": "2020-07-31T17:54:44.135089Z",
     "start_time": "2020-07-31T17:54:40.620229Z"
    }
   },
   "outputs": [],
   "source": [
    "'''tqdm can easily support callbacks/hooks and manual updates. Here’s an example with urllib:\n",
    "``urllib.urlretrieve`` documentation'''\n",
    "\n",
    "import urllib, os\n",
    "from tqdm import tqdm\n",
    "\n",
    "class TqdmUpTo(tqdm):\n",
    "    \"\"\"Provides `update_to(n)` which uses `tqdm.update(delta_n)`.\"\"\"\n",
    "    def update_to(self, b=1, bsize=1, tsize=None):\n",
    "        \"\"\"\n",
    "        b  : int, optional\n",
    "            Number of blocks transferred so far [default: 1].\n",
    "        bsize  : int, optional\n",
    "            Size of each block (in tqdm units) [default: 1].\n",
    "        tsize  : int, optional\n",
    "            Total size (in tqdm units). If [default: None] remains unchanged.\n",
    "        \"\"\"\n",
    "        if tsize is not None:\n",
    "            self.total = tsize\n",
    "        self.update(b * bsize - self.n)  # will also set self.n = b * bsize\n",
    "\n",
    "eg_link = \"https://caspersci.uk.to/matryoshka.zip\"\n",
    "with TqdmUpTo(unit='B', unit_scale=True, unit_divisor=1024, miniters=1,\n",
    "              desc=eg_link.split('/')[-1]) as t:  # all optional kwargs\n",
    "    urllib.request.urlretrieve(eg_link, filename=os.devnull,\n",
    "                       reporthook=t.update_to, data=None)\n",
    "    t.total = t.n"
   ]
  },
  {
   "cell_type": "code",
   "execution_count": null,
   "metadata": {
    "ExecuteTime": {
     "end_time": "2020-08-01T06:03:07.947621Z",
     "start_time": "2020-08-01T06:02:53.387836Z"
    }
   },
   "outputs": [],
   "source": [
    "# Alternatively, use the even simpler wrapattr convenience function, which would condense both the urllib and CallbackIOWrapper examples down to:\n",
    "\n",
    "import urllib, os\n",
    "from tqdm import tqdm\n",
    "\n",
    "eg_link = \"https://caspersci.uk.to/matryoshka.zip\"\n",
    "with tqdm.wrapattr(open(os.devnull, \"wb\"), \"write\",\n",
    "                   miniters=1, desc=eg_link.split('/')[-1]) as fout:\n",
    "    for chunk in urllib.request.urlopen(eg_link):\n",
    "        fout.write(chunk)\n",
    "\n",
    "\n",
    "# '''The requests equivalent is nearly identical, albeit with a total:'''\n",
    "\n",
    "# import requests, os\n",
    "# from tqdm import tqdm\n",
    "\n",
    "# eg_link = \"https://caspersci.uk.to/matryoshka.zip\"\n",
    "# response = requests.get(eg_link, stream=True)\n",
    "# with tqdm.wrapattr(open(os.devnull, \"wb\"), \"write\",\n",
    "#                    miniters=1, desc=eg_link.split('/')[-1],\n",
    "#                    total=int(response.headers.get('content-length', 0))) as fout:\n",
    "#     for chunk in response.iter_content(chunk_size=4096):\n",
    "#         fout.write(chunk)"
   ]
  }
 ],
 "metadata": {
  "kernelspec": {
   "display_name": "Python 3.8.0 64-bit",
   "language": "python",
   "name": "python38064bitdf4ee2c985fd4d5b9c4a5d6abda99f34"
  },
  "language_info": {
   "codemirror_mode": {
    "name": "ipython",
    "version": 3
   },
   "file_extension": ".py",
   "mimetype": "text/x-python",
   "name": "python",
   "nbconvert_exporter": "python",
   "pygments_lexer": "ipython3",
   "version": "3.8.0"
  },
  "toc": {
   "base_numbering": 1,
   "nav_menu": {},
   "number_sections": true,
   "sideBar": true,
   "skip_h1_title": false,
   "title_cell": "Table of Contents",
   "title_sidebar": "Contents",
   "toc_cell": false,
   "toc_position": {},
   "toc_section_display": true,
   "toc_window_display": false
  }
 },
 "nbformat": 4,
 "nbformat_minor": 4
}
