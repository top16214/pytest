{
 "cells": [
  {
   "cell_type": "code",
   "execution_count": null,
   "metadata": {
    "ExecuteTime": {
     "end_time": "2020-07-17T16:55:37.408056Z",
     "start_time": "2020-07-17T16:53:46.061061Z"
    },
    "code_folding": [],
    "tags": []
   },
   "outputs": [],
   "source": [
    "from urllib import request\n",
    "from bs4 import BeautifulSoup\n",
    "\n",
    "\n",
    "# url = r\"https://www.tujigu.com/a/26989/\"\n",
    "# url = r'https://www.tujigu.com/a/26989/13.html'\n",
    "\n",
    "# make a fake user-agent\n",
    "headers = {}\n",
    "headers[\n",
    "    'User-Agent'] = \"Mozilla/5.0 (X11; Linux i686) AppleWebKit/537.17 (KHTML, like Gecko) Chrome/24.0.1312.27 Safari/537.17\"\n",
    "\n",
    "pic_links = []\n",
    "\n",
    "\n",
    "def down_pics(title):\n",
    "    \"\"\"down all pics in pic_links\"\"\"\n",
    "    name = title.split('/')[0].split()\n",
    "    name[0],name[1]=name[1],name[0]\n",
    "    name[-1] = name[-1].replace('写真集','')\n",
    "    dirname = \"_\".join(name)\n",
    "    \n",
    "    import os\n",
    "    try:\n",
    "        os.mkdir(os.path.join(os.path.curdir,dirname))\n",
    "    except:\n",
    "        print(\"creat folder %s failed. exit now!\" % dirname)\n",
    "        exit(-1)\n",
    "    \n",
    "    for k, v in enumerate(pic_links, start=1):\n",
    "        localname = \"%03d\" % k + os.path.splitext(v)[-1]\n",
    "        localname = os.path.join(os.path.curdir,dirname,localname)\n",
    "        try:\n",
    "#             print(localname,\"waiting...\")\n",
    "            request.urlretrieve(v, localname)\n",
    "        except error.HTTPError as e:\n",
    "            print(e.reason)\n",
    "        except error.URLError as e:\n",
    "            print(e.reason)\n",
    "        else:\n",
    "            print(\"{}:{} OK\".format(k, v))\n",
    "\n",
    "def get_plain_html(url):\n",
    "    '''get URL's html plain text'''\n",
    "    req = request.Request(url, headers=headers)\n",
    "    response = request.urlopen(req)\n",
    "    respData = response.read()\n",
    "    htmltext = respData.decode()\n",
    "    return htmltext, response\n",
    "\n",
    "\n",
    "def get_next_page_link(bs, response):\n",
    "    '''get next page's url'''\n",
    "    content = bs.find('div', id=\"pages\")\n",
    "    # get all page links\n",
    "    # print(content.contents)\n",
    "\n",
    "    # get next page's link\n",
    "    nextPageLink = content.contents[-1]\n",
    "    nextPageLink = nextPageLink[\"href\"]\n",
    "    # print(\"下一页：{}\".format(nextPageLink))\n",
    "\n",
    "    if nextPageLink == response.geturl():\n",
    "        print(\"似乎达了最后一页\\n\")\n",
    "        return None\n",
    "    else:\n",
    "        return nextPageLink\n",
    "\n",
    "\n",
    "def save_pics(bs):\n",
    "    '''save current page's pics in pic_links list'''\n",
    "    imgs = bs.find(\"div\", class_=\"content\")\n",
    "    cc = imgs.contents\n",
    "    # 第一个元素是空值，舍去\n",
    "    for link in cc[1:]:\n",
    "        pic_links.append(link['src'])\n",
    "\n",
    "\n",
    "# store all page's pic links into pic_links\n",
    "url = input(\"Please input tujigu's URL:\\t\")\n",
    "while url:\n",
    "    plain_html, response = get_plain_html(url)\n",
    "    bs = BeautifulSoup(plain_html, \"lxml\")\n",
    "    save_pics(bs)\n",
    "    url = get_next_page_link(bs, response)\n",
    "\n",
    "title = bs.find('title').string\n",
    "\n",
    "# time to download all the pics\n",
    "down_pics(title)\n",
    "\n",
    "print(\"All Done! {} files are downloaded...\".format(len(pic_links)))"
   ]
  },
  {
   "cell_type": "code",
   "execution_count": null,
   "metadata": {
    "ExecuteTime": {
     "end_time": "2020-07-03T16:26:59.408945Z",
     "start_time": "2020-07-03T16:26:59.393945Z"
    },
    "code_folding": [],
    "scrolled": true
   },
   "outputs": [],
   "source": [
    "li = list()\n",
    "\n",
    "li.append(3)\n",
    "li.append('hello.py')\n",
    "print(li)\n",
    "print(not bool(li))\n",
    "\n",
    "s1 = \"hello\"\n",
    "s2 = \"hello\"\n",
    "# if s1 == s2:\n",
    "#     print(\"s1 equals to s2\")\n",
    "\n",
    "# print(id(s1))\n",
    "# print(id(s2))\n",
    "    \n",
    "if id(s1) == id(s2):\n",
    "    print(\"s1 equals to s2\")\n",
    "\n",
    "    \n",
    "if s1 is s2:\n",
    "    print(\"s1 equals to s2\")\n",
    "    \n",
    "\n"
   ]
  },
  {
   "cell_type": "code",
   "execution_count": null,
   "metadata": {
    "ExecuteTime": {
     "end_time": "2020-07-17T14:18:06.910611Z",
     "start_time": "2020-07-17T14:18:06.904608Z"
    },
    "code_folding": []
   },
   "outputs": [],
   "source": [
    "from bs4 import BeautifulSoup\n",
    "\n",
    "html_doc = \"\"\"\n",
    "<img alt='Original Xiaomi Redmi Note 5 4GB RAM 64GB ROM Snapdragon S636 Octa Core Mobile Phone MIUI9 5.99\" 2160*1080 4000mAh 12.0+5.0MP(China)' class=\"picCore\" id=\"limage_32856997152\" image-src=\"//ae01.alicdn.com/kf/HTB1WDJZbE_rK1Rjy0Fcq6zEvVXaS/Original-Xiaomi-Redmi-Note-5-4GB-RAM-64GB-ROM-Snapdragon-S636-Octa-Core-Mobile-Phone-MIUI9.jpg_220x220xz.jpg\" itemprop=\"image\"/>\n",
    "\"\"\"\n",
    "\n",
    "soup = BeautifulSoup(html_doc, 'html.parser')\n",
    "\n",
    "a1 = soup.select(\"img\")\n",
    "# print(a1)\n",
    "# print(type(a1))\n",
    "# print(dir(a1))\n",
    "print(a1[0].get(\"alt\"))\n",
    "\n",
    "\n",
    "# for link in soup.find_all('img'):\n",
    "#     print(link.get('image-src'))"
   ]
  },
  {
   "cell_type": "code",
   "execution_count": null,
   "metadata": {
    "ExecuteTime": {
     "end_time": "2020-07-17T16:52:47.927054Z",
     "start_time": "2020-07-17T16:52:47.916054Z"
    }
   },
   "outputs": [],
   "source": [
    "import os\n",
    "# os.listdir()\n",
    "# os.path.isdir(r'[丽柜Ligui]_筱筱《牛仔黑丝修理工》_网络丽人_[64P]')\n",
    "\n",
    "path = r'[丽柜Ligui]_筱筱《牛仔黑丝修理工》_网络丽人_[64P]'\n",
    "try:\n",
    "    os.mkdir(path)\n",
    "except OSError:\n",
    "    print(\"test already exists\")\n",
    "    os.rmdir(path)\n",
    "else:\n",
    "    print(\"{} has created.\".format(path))"
   ]
  }
 ],
 "metadata": {
  "kernelspec": {
   "display_name": "Python 3.8.0 64-bit",
   "language": "python",
   "name": "python38064bitdf4ee2c985fd4d5b9c4a5d6abda99f34"
  },
  "language_info": {
   "codemirror_mode": {
    "name": "ipython",
    "version": 3
   },
   "file_extension": ".py",
   "mimetype": "text/x-python",
   "name": "python",
   "nbconvert_exporter": "python",
   "pygments_lexer": "ipython3",
   "version": "3.8.0"
  },
  "toc": {
   "base_numbering": 1,
   "nav_menu": {},
   "number_sections": true,
   "sideBar": true,
   "skip_h1_title": false,
   "title_cell": "Table of Contents",
   "title_sidebar": "Contents",
   "toc_cell": false,
   "toc_position": {},
   "toc_section_display": true,
   "toc_window_display": false
  }
 },
 "nbformat": 4,
 "nbformat_minor": 4
}
