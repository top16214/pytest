{
 "cells": [
  {
   "cell_type": "code",
   "execution_count": null,
   "metadata": {
    "ExecuteTime": {
     "start_time": "2020-06-22T07:07:04.634Z"
    }
   },
   "outputs": [],
   "source": [
    "from IPython.core.debugger import set_trace\n",
    "def func(x):\n",
    "\tx = x+2\n",
    "\tset_trace()\n",
    "\tx = x-2\n",
    "\treturn x\n",
    "func(2)"
   ]
  },
  {
   "cell_type": "code",
   "execution_count": null,
   "metadata": {
    "ExecuteTime": {
     "end_time": "2020-07-03T07:57:00.250050Z",
     "start_time": "2020-07-03T07:56:58.193402Z"
    }
   },
   "outputs": [],
   "source": [
    "# -*- coding:utf-8 -*-\n",
    "\n",
    "import sys\n",
    "from site import getsitepackages\n",
    "\n",
    "# python的搜索路径\n",
    "# the list of directories Python goes through to search for modules and files\n",
    "# print(\"Python's search path:\\n{}\".format(sys.path))\n",
    "# python执行文件路径\n",
    "# print(sys.executable)\n",
    "# 包的安装路径\n",
    "# print(getsitepackages())\n",
    "# python版本号\n",
    "# print(sys.version_info)\n",
    "# print(\"Python major version is: {}\".format(sys.version_info[0]))\n",
    "# system平台\n",
    "# print(\"OS platform:{}\".format(sys.platform))\n",
    "# 系统最大整数值、最大unicode值\n",
    "# print(\"OS max int value: {}\\nOS max unicode value: {}\".format(sys.maxsize, sys.maxunicode))\n",
    "# print()\n",
    "# 任意对象占用内存字节数\n",
    "# li = [3.14, 2, \"j\", \"hello,world!\", {\"name\": \"neo\", \"age\": 38}]\n",
    "# for item in li:\n",
    "#     print(\"{} occupies {} bytes.\".format(item, sys.getsizeof(item)))\n",
    "\n",
    "# print()\n",
    "\n",
    "# import os\n",
    "# os.getcwd()\n",
    "\n",
    "# from tqdm import tqdm\n",
    "# for i in tqdm(range(10000)):\n",
    "#     pass\n",
    "\n",
    "# filename=\"hello.py\"\n",
    "# print(f\"Downloading {filename}\")\n",
    "# print(type(f\"Downloading\"))\n",
    "\n",
    "from tqdm import tqdm\n",
    "from time import sleep\n",
    "\n",
    "text = \"\"\n",
    "for char in tqdm([\"a\", \"b\", \"c\", \"d\"]):\n",
    "    sleep(0.50)\n",
    "    text = text + char\n",
    "    print(text)"
   ]
  },
  {
   "cell_type": "code",
   "execution_count": null,
   "metadata": {
    "ExecuteTime": {
     "end_time": "2020-07-03T08:04:06.782641Z",
     "start_time": "2020-07-03T08:04:06.766434Z"
    }
   },
   "outputs": [],
   "source": [
    "from urllib.parse import urljoin, urlparse\n",
    "\n",
    "url = r\"https://lns.hywly.com/a/1/26989/200.jpg\"\n",
    "# url = r\"gjkfdafj;k\"\n",
    "print(urlparse(url).netloc)\n",
    "r = bool(urlparse(url).netloc)\n",
    "print(r)"
   ]
  },
  {
   "cell_type": "markdown",
   "metadata": {},
   "source": [
    "# 系统编码\n"
   ]
  },
  {
   "cell_type": "code",
   "execution_count": null,
   "metadata": {
    "ExecuteTime": {
     "end_time": "2020-07-03T16:08:03.659816Z",
     "start_time": "2020-07-03T16:08:03.648815Z"
    }
   },
   "outputs": [],
   "source": [
    "import sys\n",
    "# reload(sys)\n",
    "# sys.setdefaultencoding(\"utf-8\")\n",
    "print(sys.getdefaultencoding())\n",
    "\n",
    "import locale\n",
    "print(locale.getpreferredencoding())\n",
    "print(locale.getlocale())"
   ]
  },
  {
   "cell_type": "code",
   "execution_count": null,
   "metadata": {
    "ExecuteTime": {
     "end_time": "2020-07-17T15:12:11.345448Z",
     "start_time": "2020-07-17T15:12:11.329008Z"
    }
   },
   "outputs": [],
   "source": [
    "from urllib import request\n",
    "from urllib import error\n",
    "import os\n",
    "\n",
    "# this is an invalid URL,raised a 404 http_code\n",
    "# url = r\"https://lns.hywly.com/a/1/26989/200.jpg\"\n",
    "url = r\"https://lns.hywly.com/a/1/26989/34.jpg\"\n",
    "\n",
    "headers = {}\n",
    "headers[\n",
    "    'User-Agent'] = \"Mozilla/5.0 (X11; Linux i686) AppleWebKit/537.17 (KHTML, like Gecko) Chrome/24.0.1312.27 Safari/537.17\"\n",
    "\n",
    "req = request.Request(url, headers=headers)\n",
    "localfile = os.path.join(os.getcwd(),'cover.jpg')\n",
    "print(localfile)\n",
    "try:\n",
    "    pass\n",
    "    #     request.urlretrieve(url,localfile)\n",
    "except error.HTTPError as e:\n",
    "    print(e.reason)\n",
    "except error.URLError as e:\n",
    "    print(e.reason)\n",
    "else:\n",
    "    print('Downloaded.')"
   ]
  }
 ],
 "metadata": {
  "kernelspec": {
   "display_name": "Python 3",
   "language": "python",
   "name": "python3"
  },
  "language_info": {
   "codemirror_mode": {
    "name": "ipython",
    "version": 3
   },
   "file_extension": ".py",
   "mimetype": "text/x-python",
   "name": "python",
   "nbconvert_exporter": "python",
   "pygments_lexer": "ipython3",
   "version": "3.9.1-final"
  },
  "toc": {
   "base_numbering": 1,
   "nav_menu": {},
   "number_sections": true,
   "sideBar": true,
   "skip_h1_title": false,
   "title_cell": "Table of Contents",
   "title_sidebar": "Contents",
   "toc_cell": false,
   "toc_position": {},
   "toc_section_display": true,
   "toc_window_display": false
  }
 },
 "nbformat": 4,
 "nbformat_minor": 4
}